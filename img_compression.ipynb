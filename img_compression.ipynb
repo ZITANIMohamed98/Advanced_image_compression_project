{
 "cells": [
  {
   "cell_type": "code",
   "execution_count": 2,
   "id": "43b878e8",
   "metadata": {},
   "outputs": [],
   "source": [
    "import rawpy\n",
    "import cv2\n",
    "from PIL import Image\n",
    "import numpy as np\n",
    "from multiprocessing.pool import Pool\n",
    "import utils\n",
    "import os\n",
    "\n",
    "\n",
    "###############################################################################\n",
    "# Instantiation\n",
    "###############################################################################\n",
    "lum_downsample = utils.Downsampling(ratio='4:4:4')\n",
    "chr_downsample = utils.Downsampling(ratio='4:2:0')\n",
    "image_block = utils.ImageBlock(block_height=8, block_width=8)\n",
    "dct2d = utils.DCT2D(norm='ortho')\n",
    "quantization = utils.Quantization()\n",
    "zigzagScanning = utils.ZigzagScanning()\n",
    "rle = utils.RLE()\n",
    "entropy = utils.Entropy()\n",
    "###############################################################################\n",
    "# Preprocess\n",
    "###############################################################################\n",
    "# Read raw image file as array\n",
    "# Generate random pixel values\n",
    "raw = rawpy.imread(os.path.join('images', 'Nikon-D3500-Shotkit-4.NEF'))\n",
    "\n",
    "    \n",
    "\n",
    "\n"
   ]
  },
  {
   "cell_type": "code",
   "execution_count": 3,
   "id": "c0b7de50",
   "metadata": {},
   "outputs": [],
   "source": [
    "rgb_img = raw.postprocess()\n"
   ]
  },
  {
   "cell_type": "code",
   "execution_count": 4,
   "id": "791d593c",
   "metadata": {},
   "outputs": [
    {
     "data": {
      "text/plain": [
       "(4016, 6016, 3)"
      ]
     },
     "execution_count": 4,
     "metadata": {},
     "output_type": "execute_result"
    }
   ],
   "source": [
    "rgb_img.shape"
   ]
  },
  {
   "cell_type": "code",
   "execution_count": 5,
   "id": "f7de4adb",
   "metadata": {},
   "outputs": [],
   "source": [
    "# Colorspace transform (RGB -> YCrCb)\n",
    "ycc_img = cv2.cvtColor(rgb_img, cv2.COLOR_RGB2YCrCb)\n"
   ]
  },
  {
   "cell_type": "code",
   "execution_count": 6,
   "id": "5edc6cef",
   "metadata": {},
   "outputs": [
    {
     "data": {
      "text/plain": [
       "array([[[161, 146, 129],\n",
       "        [161, 148, 129],\n",
       "        [163, 147, 127],\n",
       "        ...,\n",
       "        [101, 138, 130],\n",
       "        [101, 142, 130],\n",
       "        [ 99, 143, 132]],\n",
       "\n",
       "       [[161, 145, 129],\n",
       "        [162, 144, 128],\n",
       "        [163, 142, 126],\n",
       "        ...,\n",
       "        [ 99, 137, 131],\n",
       "        [ 99, 137, 131],\n",
       "        [100, 137, 131]],\n",
       "\n",
       "       [[163, 143, 127],\n",
       "        [164, 139, 126],\n",
       "        [161, 139, 127],\n",
       "        ...,\n",
       "        [ 97, 134, 133],\n",
       "        [ 99, 132, 131],\n",
       "        [101, 129, 129]],\n",
       "\n",
       "       ...,\n",
       "\n",
       "       [[ 91, 139, 121],\n",
       "        [ 92, 141, 120],\n",
       "        [ 92, 142, 120],\n",
       "        ...,\n",
       "        [ 86, 147, 119],\n",
       "        [ 86, 149, 119],\n",
       "        [ 89, 146, 116]],\n",
       "\n",
       "       [[ 89, 136, 122],\n",
       "        [ 91, 139, 121],\n",
       "        [ 92, 143, 121],\n",
       "        ...,\n",
       "        [ 88, 146, 116],\n",
       "        [ 87, 145, 117],\n",
       "        [ 87, 145, 118]],\n",
       "\n",
       "       [[ 88, 137, 123],\n",
       "        [ 90, 140, 122],\n",
       "        [ 92, 143, 122],\n",
       "        ...,\n",
       "        [ 88, 146, 114],\n",
       "        [ 88, 144, 116],\n",
       "        [ 87, 144, 118]]], dtype=uint8)"
      ]
     },
     "execution_count": 6,
     "metadata": {},
     "output_type": "execute_result"
    }
   ],
   "source": [
    "ycc_img"
   ]
  },
  {
   "cell_type": "code",
   "execution_count": 7,
   "id": "62ce22da",
   "metadata": {},
   "outputs": [],
   "source": [
    "# Center\n",
    "ycc_img = ycc_img.astype(int)-128"
   ]
  },
  {
   "cell_type": "code",
   "execution_count": 8,
   "id": "04a6a915",
   "metadata": {},
   "outputs": [
    {
     "data": {
      "text/plain": [
       "array([[[ 33,  18,   1],\n",
       "        [ 33,  20,   1],\n",
       "        [ 35,  19,  -1],\n",
       "        ...,\n",
       "        [-27,  10,   2],\n",
       "        [-27,  14,   2],\n",
       "        [-29,  15,   4]],\n",
       "\n",
       "       [[ 33,  17,   1],\n",
       "        [ 34,  16,   0],\n",
       "        [ 35,  14,  -2],\n",
       "        ...,\n",
       "        [-29,   9,   3],\n",
       "        [-29,   9,   3],\n",
       "        [-28,   9,   3]],\n",
       "\n",
       "       [[ 35,  15,  -1],\n",
       "        [ 36,  11,  -2],\n",
       "        [ 33,  11,  -1],\n",
       "        ...,\n",
       "        [-31,   6,   5],\n",
       "        [-29,   4,   3],\n",
       "        [-27,   1,   1]],\n",
       "\n",
       "       ...,\n",
       "\n",
       "       [[-37,  11,  -7],\n",
       "        [-36,  13,  -8],\n",
       "        [-36,  14,  -8],\n",
       "        ...,\n",
       "        [-42,  19,  -9],\n",
       "        [-42,  21,  -9],\n",
       "        [-39,  18, -12]],\n",
       "\n",
       "       [[-39,   8,  -6],\n",
       "        [-37,  11,  -7],\n",
       "        [-36,  15,  -7],\n",
       "        ...,\n",
       "        [-40,  18, -12],\n",
       "        [-41,  17, -11],\n",
       "        [-41,  17, -10]],\n",
       "\n",
       "       [[-40,   9,  -5],\n",
       "        [-38,  12,  -6],\n",
       "        [-36,  15,  -6],\n",
       "        ...,\n",
       "        [-40,  18, -14],\n",
       "        [-40,  16, -12],\n",
       "        [-41,  16, -10]]])"
      ]
     },
     "execution_count": 8,
     "metadata": {},
     "output_type": "execute_result"
    }
   ],
   "source": [
    "ycc_img"
   ]
  },
  {
   "cell_type": "code",
   "execution_count": 9,
   "id": "790763aa",
   "metadata": {},
   "outputs": [],
   "source": [
    "# Downsampling\n",
    "Y = lum_downsample(ycc_img[:,:,0])\n",
    "Cr = chr_downsample(ycc_img[:,:,1])\n",
    "Cb = chr_downsample(ycc_img[:,:,2])\n",
    "ycc_img = np.stack((Y, Cr, Cb), axis=2)"
   ]
  },
  {
   "cell_type": "code",
   "execution_count": 10,
   "id": "3c9aeecd",
   "metadata": {},
   "outputs": [
    {
     "data": {
      "text/plain": [
       "array([[ 33,  33,  35, ..., -27, -27, -29],\n",
       "       [ 33,  34,  35, ..., -29, -29, -28],\n",
       "       [ 35,  36,  33, ..., -31, -29, -27],\n",
       "       ...,\n",
       "       [-37, -36, -36, ..., -42, -42, -39],\n",
       "       [-39, -37, -36, ..., -40, -41, -41],\n",
       "       [-40, -38, -36, ..., -40, -40, -41]])"
      ]
     },
     "execution_count": 10,
     "metadata": {},
     "output_type": "execute_result"
    }
   ],
   "source": [
    "Y"
   ]
  },
  {
   "cell_type": "code",
   "execution_count": 11,
   "id": "7f8772c7",
   "metadata": {},
   "outputs": [
    {
     "data": {
      "text/plain": [
       "6016"
      ]
     },
     "execution_count": 11,
     "metadata": {},
     "output_type": "execute_result"
    }
   ],
   "source": [
    "Y[0].size"
   ]
  },
  {
   "cell_type": "code",
   "execution_count": 12,
   "id": "f47ba6f5",
   "metadata": {},
   "outputs": [
    {
     "data": {
      "text/plain": [
       "6016"
      ]
     },
     "execution_count": 12,
     "metadata": {},
     "output_type": "execute_result"
    }
   ],
   "source": [
    "Cr[0].size"
   ]
  },
  {
   "cell_type": "code",
   "execution_count": 13,
   "id": "8974f83b",
   "metadata": {},
   "outputs": [
    {
     "data": {
      "text/plain": [
       "24160256"
      ]
     },
     "execution_count": 13,
     "metadata": {},
     "output_type": "execute_result"
    }
   ],
   "source": [
    "Cb.size"
   ]
  },
  {
   "cell_type": "code",
   "execution_count": 14,
   "id": "74f9554e",
   "metadata": {},
   "outputs": [
    {
     "data": {
      "text/plain": [
       "array([[[ 33,  18,   1],\n",
       "        [ 33,  18,   1],\n",
       "        [ 35,  17,  -1],\n",
       "        ...,\n",
       "        [-27,   9,   3],\n",
       "        [-27,  12,   3],\n",
       "        [-29,  12,   3]],\n",
       "\n",
       "       [[ 33,  18,   1],\n",
       "        [ 34,  18,   1],\n",
       "        [ 35,  17,  -1],\n",
       "        ...,\n",
       "        [-29,   9,   3],\n",
       "        [-29,  12,   3],\n",
       "        [-28,  12,   3]],\n",
       "\n",
       "       [[ 35,  13,  -2],\n",
       "        [ 36,  13,  -2],\n",
       "        [ 33,  13,  -1],\n",
       "        ...,\n",
       "        [-31,   7,   5],\n",
       "        [-29,   4,   2],\n",
       "        [-27,   4,   2]],\n",
       "\n",
       "       ...,\n",
       "\n",
       "       [[-37,  14,  -7],\n",
       "        [-36,  14,  -7],\n",
       "        [-36,  13,  -8],\n",
       "        ...,\n",
       "        [-42,  18,  -9],\n",
       "        [-42,  18, -11],\n",
       "        [-39,  18, -11]],\n",
       "\n",
       "       [[-39,  10,  -6],\n",
       "        [-37,  10,  -6],\n",
       "        [-36,  13,  -6],\n",
       "        ...,\n",
       "        [-40,  19, -12],\n",
       "        [-41,  16, -11],\n",
       "        [-41,  16, -11]],\n",
       "\n",
       "       [[-40,  10,  -6],\n",
       "        [-38,  10,  -6],\n",
       "        [-36,  13,  -6],\n",
       "        ...,\n",
       "        [-40,  19, -12],\n",
       "        [-40,  16, -11],\n",
       "        [-41,  16, -11]]])"
      ]
     },
     "execution_count": 14,
     "metadata": {},
     "output_type": "execute_result"
    }
   ],
   "source": [
    "ycc_img"
   ]
  },
  {
   "cell_type": "code",
   "execution_count": 15,
   "id": "9da8626a",
   "metadata": {},
   "outputs": [],
   "source": [
    "# Create 8x8 blocks\n",
    "blocks, indices = image_block.forward(ycc_img)"
   ]
  },
  {
   "cell_type": "code",
   "execution_count": 125,
   "id": "e11f2326",
   "metadata": {},
   "outputs": [
    {
     "data": {
      "text/plain": [
       "<generator object <genexpr> at 0x000001F3BCA6CE50>"
      ]
     },
     "execution_count": 125,
     "metadata": {},
     "output_type": "execute_result"
    }
   ],
   "source": [
    "(print(np.where(x==9)) for x in range(0,13))"
   ]
  },
  {
   "cell_type": "code",
   "execution_count": 127,
   "id": "dd973981",
   "metadata": {},
   "outputs": [
    {
     "name": "stdout",
     "output_type": "stream",
     "text": [
      "(array([      0,       0,       1, ..., 1132503, 1132506, 1132509],\n",
      "      dtype=int64), array([1, 2, 1, ..., 2, 2, 2], dtype=int64))\n"
     ]
    }
   ],
   "source": [
    "for index in indices:\n",
    "    if index[0]!=0:\n",
    "        print(np.where(indices == index))\n",
    "        break"
   ]
  },
  {
   "cell_type": "code",
   "execution_count": 140,
   "id": "5035220c",
   "metadata": {},
   "outputs": [],
   "source": [
    "\n",
    "def predict_block(block, index,blocks,count):\n",
    "    prediction_error_array =[]\n",
    "    count_vertical = 0\n",
    "    count_horizontal = 0\n",
    "    for j in range(0,len(index)):\n",
    "        \n",
    "        blocks_transpose = np.transpose(blocks)\n",
    "        if index[0]==0 and index[1]!=0:\n",
    "            # Select previous block vertically\n",
    "            \n",
    "            prev_block = (blocks[count-1][index[2]] )\n",
    "            last_column = np.transpose(prev_block)[7]\n",
    "            prediction  = np.mean(last_column)*np.ones([8,8],'float32')\n",
    "            prediction_error = blocks[index][index[2]]-prediction\n",
    "            prediction_error_array.append(prediction_error)\n",
    "            count_vertical+=1\n",
    "        \n",
    "        elif index[1]==0 and index[0]!=0:\n",
    "            # Select previous block horizontally\n",
    "            print(index[1],index[0])\n",
    "            prev_block = (blocks_transpose[count-1][index[2]] )\n",
    "            print(prev_block)\n",
    "            last_column = prev_block[7]\n",
    "            prediction  = np.mean(last_column)*np.ones([8,8],'float32')\n",
    "            prediction_error = blocks[index][index[2]]-prediction\n",
    "            count_horizontal+=1\n",
    "        elif index[1]==0 and index[0]!=0:\n",
    "            # Select previous block horizontally\n",
    "            print(index[1],index[0])\n",
    "            prev_block = (blocks_transpose[count-1][index[2]] )\n",
    "            print(prev_block)\n",
    "            last_column = prev_block[7]\n",
    "            prediction  = np.mean(last_column)*np.ones([8,8],'float32')\n",
    "            prediction_error = blocks[index][index[2]]-prediction\n",
    "            count_horizontal+=1\n",
    "    return prediction_error_array"
   ]
  },
  {
   "cell_type": "code",
   "execution_count": 143,
   "id": "69bb22a5",
   "metadata": {},
   "outputs": [
    {
     "name": "stdout",
     "output_type": "stream",
     "text": [
      "[array([[31., 31., 33., 32., 33., 31., 30., 28.],\n",
      "       [31., 32., 33., 32., 33., 32., 31., 31.],\n",
      "       [33., 34., 31., 30., 32., 35., 32., 32.],\n",
      "       [31., 32., 32., 32., 30., 32., 30., 31.],\n",
      "       [30., 33., 33., 34., 32., 31., 31., 29.],\n",
      "       [29., 32., 32., 32., 30., 35., 33., 32.],\n",
      "       [30., 30., 30., 32., 32., 35., 33., 34.],\n",
      "       [31., 30., 28., 31., 31., 31., 32., 29.]]), array([[31., 31., 33., 32., 33., 31., 30., 28.],\n",
      "       [31., 32., 33., 32., 33., 32., 31., 31.],\n",
      "       [33., 34., 31., 30., 32., 35., 32., 32.],\n",
      "       [31., 32., 32., 32., 30., 32., 30., 31.],\n",
      "       [30., 33., 33., 34., 32., 31., 31., 29.],\n",
      "       [29., 32., 32., 32., 30., 35., 33., 32.],\n",
      "       [30., 30., 30., 32., 32., 35., 33., 34.],\n",
      "       [31., 30., 28., 31., 31., 31., 32., 29.]]), array([[31., 31., 33., 32., 33., 31., 30., 28.],\n",
      "       [31., 32., 33., 32., 33., 32., 31., 31.],\n",
      "       [33., 34., 31., 30., 32., 35., 32., 32.],\n",
      "       [31., 32., 32., 32., 30., 32., 30., 31.],\n",
      "       [30., 33., 33., 34., 32., 31., 31., 29.],\n",
      "       [29., 32., 32., 32., 30., 35., 33., 32.],\n",
      "       [30., 30., 30., 32., 32., 35., 33., 34.],\n",
      "       [31., 30., 28., 31., 31., 31., 32., 29.]])]\n"
     ]
    }
   ],
   "source": [
    "count = 0 \n",
    "print(predict_block(blocks[2250],indices[2250],blocks,2250))"
   ]
  },
  {
   "cell_type": "code",
   "execution_count": 88,
   "id": "9bcef923",
   "metadata": {},
   "outputs": [],
   "source": [
    "QP=15\n",
    "\n",
    "# # Vertical Prediction \n",
    "# def predictor(prevBlock, currBlock):\n",
    "\n",
    "# Horizontal Prediction\n",
    "reconstsructed_blocks =[]\n",
    "def predict_block(block, index,blocks):\n",
    "    \n",
    "    # detect Borders\n",
    "    if index[0]==0 and index[1] == 0:\n",
    "        # DCT\n",
    "        encoded = dct2d.forward(block)\n",
    "        if index[2] == 0:\n",
    "            channel_type = 'lum'\n",
    "        else:\n",
    "            channel_type = 'chr'\n",
    "            \n",
    "        # Quantization\n",
    "        encoded = quantization.forward(encoded, channel_type,QP)\n",
    "        \n",
    "        # RLE + zigzag scanning\n",
    "        encoded = zigzagScanning.forward(encoded)\n",
    "        encoded = rle.forward(encoded)\n",
    "        \n",
    "        decoded = rle.backward(encoded)\n",
    "        # Reverse RLE + zigzag scanning\n",
    "        decoded = zigzagScanning.backward(decoded)\n",
    "        # Dequantization\n",
    "        decoded = quantization.backward(decoded, channel_type,QP)\n",
    "        \n",
    "        # Reverse DCT\n",
    "        reconstructed_block = dct2d.backward(decoded)\n",
    "        \n",
    "        reconstsructed_blocks.append(reconstructed_block)\n",
    "        \n",
    "    # First row vertical prediction \n",
    "    \n",
    "    elif index[0]==0:\n",
    "        # Select previous block vertically\n",
    "        \n",
    "        prev_block = blocks[index[0]][index[1]-8][index[2]]\n",
    "        mean_last_column = np.mean(np.transpose(prev_block)[7])\n",
    "    \n",
    "def process_block(block, index, toEncode_Y, toEncode_CbCr):\n",
    "\n",
    "    #Prediction  -> Prediction error\n",
    "    \n",
    "    # DCT\n",
    "    encoded = dct2d.forward(block)\n",
    "    if index[2] == 0:\n",
    "        channel_type = 'lum'\n",
    "    else:\n",
    "        channel_type = 'chr'\n",
    "        \n",
    "    # Quantization\n",
    "    encoded = quantization.forward(encoded, channel_type,QP)\n",
    "    \n",
    "    # RLE + zigzag scanning\n",
    "    encoded = zigzagScanning.forward(encoded)\n",
    "    encoded = rle.forward(encoded)\n",
    "    \n",
    "    assert channel_type in ('lum', 'chr')\n",
    "        \n",
    "    if channel_type == 'lum':\n",
    "        toEncode_Y.append(encoded)\n",
    "    else:\n",
    "        toEncode_CbCr.append(encoded)\n",
    "    \n",
    "    \n",
    "\n",
    "    \n",
    "def reconstruct_blocks(decodedY, decodedCbCr,index, reconstructed_frame):\n",
    "    if index[2] == 0:\n",
    "        channel_type = 'lum'\n",
    "    else:\n",
    "        channel_type = 'chr'\n",
    "    \n",
    "    assert channel_type in ('lum', 'chr')\n",
    "        \n",
    "    if channel_type == 'lum':\n",
    "        decoded = decodedY[0]\n",
    "        decodedY.pop(0)\n",
    "    else:\n",
    "        decoded = decodedCbCr[0]\n",
    "        decodedCbCr.pop(0)\n",
    "        \n",
    "    decoded = rle.backward(decoded)\n",
    "    # Reverse RLE + zigzag scanning\n",
    "    decoded = zigzagScanning.backward(decoded)\n",
    "    # Dequantization\n",
    "    decoded = quantization.backward(decoded, channel_type,QP)\n",
    "    \n",
    "    # Reverse DCT\n",
    "    reconstructed_block = dct2d.backward(decoded)\n",
    "    \n",
    "    reconstructed_frame.append(reconstructed_block)"
   ]
  },
  {
   "cell_type": "code",
   "execution_count": 89,
   "id": "059e0613",
   "metadata": {},
   "outputs": [],
   "source": [
    "toEncode_Y = []\n",
    "toEncode_CbCr = []\n",
    "for i in range(0,int(blocks.size/64)-1):\n",
    "  process_block(blocks[i] ,indices[i] ,toEncode_Y ,toEncode_CbCr)\n",
    "  "
   ]
  },
  {
   "cell_type": "code",
   "execution_count": 90,
   "id": "93727913",
   "metadata": {},
   "outputs": [],
   "source": [
    "encodedY, codebookY = entropy.huffman_encoding(toEncode_Y)\n",
    "encodedCbCr, codebookCbCr= entropy.huffman_encoding(toEncode_CbCr)\n"
   ]
  },
  {
   "cell_type": "code",
   "execution_count": 91,
   "id": "106b613e",
   "metadata": {},
   "outputs": [
    {
     "data": {
      "text/plain": [
       "100.38373102763431"
      ]
     },
     "execution_count": 91,
     "metadata": {},
     "output_type": "execute_result"
    }
   ],
   "source": [
    "compression_ratio = rgb_img.shape[0]*rgb_img.shape[1]*24/(sum(len(word) for word in encodedY)+sum(len(word) for word in encodedCbCr))\n",
    "compression_ratio"
   ]
  },
  {
   "cell_type": "code",
   "execution_count": 92,
   "id": "81467e3e",
   "metadata": {},
   "outputs": [],
   "source": [
    "decodedY = entropy.huffman_decoding(encodedY, codebookY)\n",
    "decodedCbCr = entropy.huffman_decoding(encodedCbCr, codebookCbCr)\n"
   ]
  },
  {
   "cell_type": "code",
   "execution_count": 93,
   "id": "1f8e5cb2",
   "metadata": {},
   "outputs": [
    {
     "name": "stdout",
     "output_type": "stream",
     "text": [
      "755007 377504 1132512\n"
     ]
    }
   ],
   "source": [
    "reconstructed_frame = []\n",
    "print(len(decodedCbCr),len(decodedY),len(indices))\n",
    "for i in range(0,len(indices)-1):\n",
    "    reconstruct_blocks(decodedY, decodedCbCr,indices[i], reconstructed_frame)"
   ]
  },
  {
   "cell_type": "code",
   "execution_count": 94,
   "id": "47404f96",
   "metadata": {},
   "outputs": [],
   "source": [
    "ycc_img_compressed = image_block.backward(reconstructed_frame, indices)"
   ]
  },
  {
   "cell_type": "code",
   "execution_count": 95,
   "id": "d1fe20c7",
   "metadata": {},
   "outputs": [],
   "source": [
    "ycc_img_compressed = (ycc_img_compressed+128).astype('uint8')"
   ]
  },
  {
   "cell_type": "code",
   "execution_count": 96,
   "id": "ead29727",
   "metadata": {},
   "outputs": [],
   "source": [
    "rgb_img_compressed = cv2.cvtColor(ycc_img_compressed, cv2.COLOR_YCrCb2RGB)"
   ]
  },
  {
   "cell_type": "code",
   "execution_count": 97,
   "id": "bf4745df",
   "metadata": {},
   "outputs": [],
   "source": [
    "Image.fromarray(rgb_img_compressed).save(os.path.join('images', 'result3.jpeg'))"
   ]
  }
 ],
 "metadata": {
  "kernelspec": {
   "display_name": "Python 3 (ipykernel)",
   "language": "python",
   "name": "python3"
  },
  "language_info": {
   "codemirror_mode": {
    "name": "ipython",
    "version": 3
   },
   "file_extension": ".py",
   "mimetype": "text/x-python",
   "name": "python",
   "nbconvert_exporter": "python",
   "pygments_lexer": "ipython3",
   "version": "3.11.2"
  },
  "vscode": {
   "interpreter": {
    "hash": "5238573367df39f7286bb46f9ff5f08f63a01a80960060ce41e3c79b190280fa"
   }
  }
 },
 "nbformat": 4,
 "nbformat_minor": 5
}
