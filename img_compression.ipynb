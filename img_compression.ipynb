{
 "cells": [
  {
   "cell_type": "code",
   "execution_count": null,
   "id": "43b878e8",
   "metadata": {},
   "outputs": [],
   "source": [
    "import rawpy\n",
    "import cv2\n",
    "from PIL import Image\n",
    "import numpy as np\n",
    "from multiprocessing.pool import Pool\n",
    "import utils\n",
    "import os\n",
    "\n",
    "\n",
    "###############################################################################\n",
    "# Instantiation\n",
    "###############################################################################\n",
    "lum_downsample = utils.Downsampling(ratio='4:4:4')\n",
    "chr_downsample = utils.Downsampling(ratio='4:2:0')\n",
    "image_block = utils.ImageBlock(block_height=8, block_width=8)\n",
    "dct2d = utils.DCT2D(norm='ortho')\n",
    "quantization = utils.Quantization()\n",
    "zigzagScanning = utils.ZigzagScanning()\n",
    "rle = utils.RLE()\n",
    "entropy = utils.Entropy()\n",
    "###############################################################################\n",
    "# Preprocess\n",
    "###############################################################################\n",
    "# Read raw image file as array\n",
    "# Generate random pixel values\n",
    "raw = rawpy.imread(os.path.join('images', 'Nikon-D3500-Shotkit-4.NEF'))\n",
    "\n",
    "    \n",
    "\n",
    "\n"
   ]
  },
  {
   "cell_type": "code",
   "execution_count": null,
   "id": "c0b7de50",
   "metadata": {},
   "outputs": [],
   "source": [
    "rgb_img = raw.postprocess()\n"
   ]
  },
  {
   "cell_type": "code",
   "execution_count": null,
   "id": "791d593c",
   "metadata": {},
   "outputs": [
    {
     "data": {
      "text/plain": [
       "array([[[186, 148, 162],\n",
       "        [189, 147, 163],\n",
       "        [190, 150, 161],\n",
       "        ...,\n",
       "        [115,  94, 104],\n",
       "        [120,  90, 105],\n",
       "        [120,  87, 106]],\n",
       "\n",
       "       [[185, 149, 162],\n",
       "        [184, 151, 162],\n",
       "        [183, 154, 160],\n",
       "        ...,\n",
       "        [111,  92, 104],\n",
       "        [112,  92, 105],\n",
       "        [112,  93, 105]],\n",
       "\n",
       "       [[184, 152, 161],\n",
       "        [180, 156, 160],\n",
       "        [177, 154, 159],\n",
       "        ...,\n",
       "        [106,  91, 106],\n",
       "        [104,  95, 104],\n",
       "        [103,  99, 103]],\n",
       "\n",
       "       ...,\n",
       "\n",
       "       [[107,  85,  78],\n",
       "        [110,  85,  78],\n",
       "        [112,  84,  77],\n",
       "        ...,\n",
       "        [113,  76,  70],\n",
       "        [115,  74,  70],\n",
       "        [114,  80,  67]],\n",
       "\n",
       "       [[100,  85,  79],\n",
       "        [107,  85,  79],\n",
       "        [113,  84,  80],\n",
       "        ...,\n",
       "        [113,  79,  66],\n",
       "        [111,  78,  68],\n",
       "        [111,  79,  69]],\n",
       "\n",
       "       [[101,  83,  80],\n",
       "        [107,  84,  80],\n",
       "        [113,  83,  82],\n",
       "        ...,\n",
       "        [113,  80,  63],\n",
       "        [111,  80,  67],\n",
       "        [110,  79,  70]]], dtype=uint8)"
      ]
     },
     "execution_count": 3,
     "metadata": {},
     "output_type": "execute_result"
    }
   ],
   "source": [
    "rgb_img"
   ]
  },
  {
   "cell_type": "code",
   "execution_count": null,
   "id": "f7de4adb",
   "metadata": {},
   "outputs": [],
   "source": [
    "# Colorspace transform (RGB -> YCrCb)\n",
    "ycc_img = cv2.cvtColor(rgb_img, cv2.COLOR_RGB2YCrCb)\n"
   ]
  },
  {
   "cell_type": "code",
   "execution_count": null,
   "id": "5edc6cef",
   "metadata": {},
   "outputs": [
    {
     "data": {
      "text/plain": [
       "array([[[161, 146, 129],\n",
       "        [161, 148, 129],\n",
       "        [163, 147, 127],\n",
       "        ...,\n",
       "        [101, 138, 130],\n",
       "        [101, 142, 130],\n",
       "        [ 99, 143, 132]],\n",
       "\n",
       "       [[161, 145, 129],\n",
       "        [162, 144, 128],\n",
       "        [163, 142, 126],\n",
       "        ...,\n",
       "        [ 99, 137, 131],\n",
       "        [ 99, 137, 131],\n",
       "        [100, 137, 131]],\n",
       "\n",
       "       [[163, 143, 127],\n",
       "        [164, 139, 126],\n",
       "        [161, 139, 127],\n",
       "        ...,\n",
       "        [ 97, 134, 133],\n",
       "        [ 99, 132, 131],\n",
       "        [101, 129, 129]],\n",
       "\n",
       "       ...,\n",
       "\n",
       "       [[ 91, 139, 121],\n",
       "        [ 92, 141, 120],\n",
       "        [ 92, 142, 120],\n",
       "        ...,\n",
       "        [ 86, 147, 119],\n",
       "        [ 86, 149, 119],\n",
       "        [ 89, 146, 116]],\n",
       "\n",
       "       [[ 89, 136, 122],\n",
       "        [ 91, 139, 121],\n",
       "        [ 92, 143, 121],\n",
       "        ...,\n",
       "        [ 88, 146, 116],\n",
       "        [ 87, 145, 117],\n",
       "        [ 87, 145, 118]],\n",
       "\n",
       "       [[ 88, 137, 123],\n",
       "        [ 90, 140, 122],\n",
       "        [ 92, 143, 122],\n",
       "        ...,\n",
       "        [ 88, 146, 114],\n",
       "        [ 88, 144, 116],\n",
       "        [ 87, 144, 118]]], dtype=uint8)"
      ]
     },
     "execution_count": 5,
     "metadata": {},
     "output_type": "execute_result"
    }
   ],
   "source": [
    "ycc_img"
   ]
  },
  {
   "cell_type": "code",
   "execution_count": null,
   "id": "62ce22da",
   "metadata": {},
   "outputs": [],
   "source": [
    "# Center\n",
    "ycc_img = ycc_img.astype(int)-128"
   ]
  },
  {
   "cell_type": "code",
   "execution_count": null,
   "id": "04a6a915",
   "metadata": {},
   "outputs": [
    {
     "data": {
      "text/plain": [
       "array([[[ 33,  18,   1],\n",
       "        [ 33,  20,   1],\n",
       "        [ 35,  19,  -1],\n",
       "        ...,\n",
       "        [-27,  10,   2],\n",
       "        [-27,  14,   2],\n",
       "        [-29,  15,   4]],\n",
       "\n",
       "       [[ 33,  17,   1],\n",
       "        [ 34,  16,   0],\n",
       "        [ 35,  14,  -2],\n",
       "        ...,\n",
       "        [-29,   9,   3],\n",
       "        [-29,   9,   3],\n",
       "        [-28,   9,   3]],\n",
       "\n",
       "       [[ 35,  15,  -1],\n",
       "        [ 36,  11,  -2],\n",
       "        [ 33,  11,  -1],\n",
       "        ...,\n",
       "        [-31,   6,   5],\n",
       "        [-29,   4,   3],\n",
       "        [-27,   1,   1]],\n",
       "\n",
       "       ...,\n",
       "\n",
       "       [[-37,  11,  -7],\n",
       "        [-36,  13,  -8],\n",
       "        [-36,  14,  -8],\n",
       "        ...,\n",
       "        [-42,  19,  -9],\n",
       "        [-42,  21,  -9],\n",
       "        [-39,  18, -12]],\n",
       "\n",
       "       [[-39,   8,  -6],\n",
       "        [-37,  11,  -7],\n",
       "        [-36,  15,  -7],\n",
       "        ...,\n",
       "        [-40,  18, -12],\n",
       "        [-41,  17, -11],\n",
       "        [-41,  17, -10]],\n",
       "\n",
       "       [[-40,   9,  -5],\n",
       "        [-38,  12,  -6],\n",
       "        [-36,  15,  -6],\n",
       "        ...,\n",
       "        [-40,  18, -14],\n",
       "        [-40,  16, -12],\n",
       "        [-41,  16, -10]]])"
      ]
     },
     "execution_count": 7,
     "metadata": {},
     "output_type": "execute_result"
    }
   ],
   "source": [
    "ycc_img"
   ]
  },
  {
   "cell_type": "code",
   "execution_count": null,
   "id": "790763aa",
   "metadata": {},
   "outputs": [],
   "source": [
    "# Downsampling\n",
    "Y = lum_downsample(ycc_img[:,:,0])\n",
    "Cr = chr_downsample(ycc_img[:,:,1])\n",
    "Cb = chr_downsample(ycc_img[:,:,2])\n",
    "ycc_img = np.stack((Y, Cr, Cb), axis=2)"
   ]
  },
  {
   "cell_type": "code",
   "execution_count": null,
   "id": "3c9aeecd",
   "metadata": {},
   "outputs": [
    {
     "data": {
      "text/plain": [
       "array([[ 33,  33,  35, ..., -27, -27, -29],\n",
       "       [ 33,  34,  35, ..., -29, -29, -28],\n",
       "       [ 35,  36,  33, ..., -31, -29, -27],\n",
       "       ...,\n",
       "       [-37, -36, -36, ..., -42, -42, -39],\n",
       "       [-39, -37, -36, ..., -40, -41, -41],\n",
       "       [-40, -38, -36, ..., -40, -40, -41]])"
      ]
     },
     "execution_count": 9,
     "metadata": {},
     "output_type": "execute_result"
    }
   ],
   "source": [
    "Y"
   ]
  },
  {
   "cell_type": "code",
   "execution_count": null,
   "id": "7f8772c7",
   "metadata": {},
   "outputs": [
    {
     "data": {
      "text/plain": [
       "6016"
      ]
     },
     "execution_count": 10,
     "metadata": {},
     "output_type": "execute_result"
    }
   ],
   "source": [
    "Y[0].size"
   ]
  },
  {
   "cell_type": "code",
   "execution_count": null,
   "id": "f47ba6f5",
   "metadata": {},
   "outputs": [
    {
     "data": {
      "text/plain": [
       "6016"
      ]
     },
     "execution_count": 11,
     "metadata": {},
     "output_type": "execute_result"
    }
   ],
   "source": [
    "Cr[0].size"
   ]
  },
  {
   "cell_type": "code",
   "execution_count": null,
   "id": "8974f83b",
   "metadata": {},
   "outputs": [
    {
     "data": {
      "text/plain": [
       "24160256"
      ]
     },
     "execution_count": 12,
     "metadata": {},
     "output_type": "execute_result"
    }
   ],
   "source": [
    "Cb.size"
   ]
  },
  {
   "cell_type": "code",
   "execution_count": null,
   "id": "74f9554e",
   "metadata": {},
   "outputs": [
    {
     "data": {
      "text/plain": [
       "array([[[ 33,  18,   1],\n",
       "        [ 33,  18,   1],\n",
       "        [ 35,  17,  -1],\n",
       "        ...,\n",
       "        [-27,   9,   3],\n",
       "        [-27,  12,   3],\n",
       "        [-29,  12,   3]],\n",
       "\n",
       "       [[ 33,  18,   1],\n",
       "        [ 34,  18,   1],\n",
       "        [ 35,  17,  -1],\n",
       "        ...,\n",
       "        [-29,   9,   3],\n",
       "        [-29,  12,   3],\n",
       "        [-28,  12,   3]],\n",
       "\n",
       "       [[ 35,  13,  -2],\n",
       "        [ 36,  13,  -2],\n",
       "        [ 33,  13,  -1],\n",
       "        ...,\n",
       "        [-31,   7,   5],\n",
       "        [-29,   4,   2],\n",
       "        [-27,   4,   2]],\n",
       "\n",
       "       ...,\n",
       "\n",
       "       [[-37,  14,  -7],\n",
       "        [-36,  14,  -7],\n",
       "        [-36,  13,  -8],\n",
       "        ...,\n",
       "        [-42,  18,  -9],\n",
       "        [-42,  18, -11],\n",
       "        [-39,  18, -11]],\n",
       "\n",
       "       [[-39,  10,  -6],\n",
       "        [-37,  10,  -6],\n",
       "        [-36,  13,  -6],\n",
       "        ...,\n",
       "        [-40,  19, -12],\n",
       "        [-41,  16, -11],\n",
       "        [-41,  16, -11]],\n",
       "\n",
       "       [[-40,  10,  -6],\n",
       "        [-38,  10,  -6],\n",
       "        [-36,  13,  -6],\n",
       "        ...,\n",
       "        [-40,  19, -12],\n",
       "        [-40,  16, -11],\n",
       "        [-41,  16, -11]]])"
      ]
     },
     "execution_count": 13,
     "metadata": {},
     "output_type": "execute_result"
    }
   ],
   "source": [
    "ycc_img"
   ]
  },
  {
   "cell_type": "code",
   "execution_count": null,
   "id": "9da8626a",
   "metadata": {},
   "outputs": [],
   "source": [
    "# Create 8x8 blocks\n",
    "blocks, indices = image_block.forward(ycc_img)"
   ]
  },
  {
   "cell_type": "code",
   "execution_count": null,
   "id": "248ebabf",
   "metadata": {},
   "outputs": [
    {
     "data": {
      "text/plain": [
       "72480768"
      ]
     },
     "execution_count": 15,
     "metadata": {},
     "output_type": "execute_result"
    }
   ],
   "source": [
    "blocks.size"
   ]
  },
  {
   "cell_type": "code",
   "execution_count": null,
   "id": "6004fde5",
   "metadata": {},
   "outputs": [
    {
     "data": {
      "text/plain": [
       "3397536"
      ]
     },
     "execution_count": 16,
     "metadata": {},
     "output_type": "execute_result"
    }
   ],
   "source": [
    "indices.size"
   ]
  },
  {
   "cell_type": "code",
   "execution_count": null,
   "id": "9bcef923",
   "metadata": {},
   "outputs": [],
   "source": [
    "def process_block(block, index):\n",
    "    \n",
    "    #Prediction  -> Prediction error\n",
    "    \n",
    "    # DCT\n",
    "    encoded = dct2d.forward(block)\n",
    "    if index[2] == 0:\n",
    "        channel_type = 'lum'\n",
    "    else:\n",
    "        channel_type = 'chr'\n",
    "        \n",
    "    # Quantization\n",
    "    encoded = quantization.forward(encoded, channel_type)\n",
    "    \n",
    "    # RLE + zigzag scanning\n",
    "    encoded = zigzagScanning.forward(encoded)\n",
    "    encoded = rle.forward(encoded)\n",
    "    # Entropy coding (Arithmetic)\n",
    "    #encoded, prob = entropy.forward(encoded)\n",
    "    \n",
    "\n",
    "    # Reverse Entropy coding (Arithmetic)\n",
    "    #decoded = entropy.backward(encoded, prob)\n",
    "    decoded = rle.backward(encoded)\n",
    "    # Reverse RLE + zigzag scanning\n",
    "    decoded = zigzagScanning.backward(decoded)\n",
    "    # Dequantization\n",
    "    decoded = quantization.backward(decoded, channel_type)\n",
    "    \n",
    "    # Reverse DCT\n",
    "    compressed = dct2d.backward(decoded)\n",
    "    return compressed\n",
    "\n",
    "    #Reverse Prediction "
   ]
  },
  {
   "cell_type": "code",
   "execution_count": null,
   "id": "059e0613",
   "metadata": {},
   "outputs": [
    {
     "ename": "UnboundLocalError",
     "evalue": "cannot access local variable 'decoded' where it is not associated with a value",
     "output_type": "error",
     "traceback": [
      "\u001b[1;31m---------------------------------------------------------------------------\u001b[0m",
      "\u001b[1;31mUnboundLocalError\u001b[0m                         Traceback (most recent call last)",
      "Cell \u001b[1;32mIn[38], line 3\u001b[0m\n\u001b[0;32m      1\u001b[0m compressed \u001b[39m=\u001b[39m []\n\u001b[0;32m      2\u001b[0m \u001b[39mfor\u001b[39;00m i \u001b[39min\u001b[39;00m \u001b[39mrange\u001b[39m(\u001b[39m0\u001b[39m,\u001b[39mint\u001b[39m(blocks\u001b[39m.\u001b[39msize\u001b[39m/\u001b[39m\u001b[39m64\u001b[39m)\u001b[39m-\u001b[39m\u001b[39m1\u001b[39m):\n\u001b[1;32m----> 3\u001b[0m   compressed\u001b[39m.\u001b[39mappend(process_block(blocks[i],indices[i]))\n",
      "Cell \u001b[1;32mIn[36], line 24\u001b[0m, in \u001b[0;36mprocess_block\u001b[1;34m(block, index)\u001b[0m\n\u001b[0;32m     17\u001b[0m encoded \u001b[39m=\u001b[39m rle\u001b[39m.\u001b[39mforward(encoded)\n\u001b[0;32m     18\u001b[0m \u001b[39m# Entropy coding (Arithmetic)\u001b[39;00m\n\u001b[0;32m     19\u001b[0m \u001b[39m#encoded, prob = entropy.forward(encoded)\u001b[39;00m\n\u001b[0;32m     20\u001b[0m \n\u001b[0;32m     21\u001b[0m \n\u001b[0;32m     22\u001b[0m \u001b[39m# Reverse Entropy coding (Arithmetic)\u001b[39;00m\n\u001b[0;32m     23\u001b[0m \u001b[39m#decoded = entropy.backward(encoded, prob)\u001b[39;00m\n\u001b[1;32m---> 24\u001b[0m decoded \u001b[39m=\u001b[39m rle\u001b[39m.\u001b[39mbackward(decoded)\n\u001b[0;32m     25\u001b[0m \u001b[39m# Reverse RLE + zigzag scanning\u001b[39;00m\n\u001b[0;32m     26\u001b[0m decoded \u001b[39m=\u001b[39m zigzagScanning\u001b[39m.\u001b[39mbackward(decoded)\n",
      "\u001b[1;31mUnboundLocalError\u001b[0m: cannot access local variable 'decoded' where it is not associated with a value"
     ]
    }
   ],
   "source": [
    "compressed = []\n",
    "for i in range(0,int(blocks.size/64)-1):\n",
    "  compressed.append(process_block(blocks[i],indices[i]))"
   ]
  },
  {
   "cell_type": "code",
   "execution_count": null,
   "id": "47404f96",
   "metadata": {},
   "outputs": [],
   "source": [
    "ycc_img_compressed = image_block.backward(compressed, indices)"
   ]
  },
  {
   "cell_type": "code",
   "execution_count": null,
   "id": "d1fe20c7",
   "metadata": {},
   "outputs": [],
   "source": [
    "ycc_img_compressed = (ycc_img_compressed+128).astype('uint8')"
   ]
  },
  {
   "cell_type": "code",
   "execution_count": null,
   "id": "ead29727",
   "metadata": {},
   "outputs": [],
   "source": [
    "rgb_img_compressed = cv2.cvtColor(ycc_img_compressed, cv2.COLOR_YCrCb2RGB)"
   ]
  },
  {
   "cell_type": "code",
   "execution_count": null,
   "id": "bf4745df",
   "metadata": {},
   "outputs": [],
   "source": [
    "Image.fromarray(rgb_img_compressed).save(os.path.join('images', 'result.jpeg'))"
   ]
  }
 ],
 "metadata": {
  "kernelspec": {
   "display_name": "Python 3 (ipykernel)",
   "language": "python",
   "name": "python3"
  },
  "language_info": {
   "codemirror_mode": {
    "name": "ipython",
    "version": 3
   },
   "file_extension": ".py",
   "mimetype": "text/x-python",
   "name": "python",
   "nbconvert_exporter": "python",
   "pygments_lexer": "ipython3",
   "version": "3.11.2"
  },
  "vscode": {
   "interpreter": {
    "hash": "5238573367df39f7286bb46f9ff5f08f63a01a80960060ce41e3c79b190280fa"
   }
  }
 },
 "nbformat": 4,
 "nbformat_minor": 5
}
