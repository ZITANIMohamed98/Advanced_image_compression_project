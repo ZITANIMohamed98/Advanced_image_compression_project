{
 "cells": [
  {
   "cell_type": "code",
   "execution_count": 1,
   "id": "43b878e8",
   "metadata": {},
   "outputs": [],
   "source": [
    "import rawpy\n",
    "import cv2\n",
    "from PIL import Image\n",
    "import numpy as np\n",
    "from multiprocessing.pool import Pool\n",
    "import utils\n",
    "import os\n",
    "\n",
    "\n",
    "###############################################################################\n",
    "# Instantiation\n",
    "###############################################################################\n",
    "lum_downsample = utils.Downsampling(ratio='4:4:4')\n",
    "chr_downsample = utils.Downsampling(ratio='4:2:0')\n",
    "image_block = utils.ImageBlock(block_height=8, block_width=8)\n",
    "dct2d = utils.DCT2D(norm='ortho')\n",
    "quantization = utils.Quantization()\n",
    "zigzagScanning = utils.ZigzagScanning()\n",
    "rle = utils.RLE()\n",
    "entropy = utils.Entropy()\n",
    "###############################################################################\n",
    "# Preprocess\n",
    "###############################################################################\n",
    "# Read raw image file as array\n",
    "# Generate random pixel values\n",
    "raw = rawpy.imread(os.path.join('images', 'Nikon-D3500-Shotkit-4.NEF'))\n",
    "\n",
    "    \n",
    "\n",
    "\n"
   ]
  },
  {
   "cell_type": "code",
   "execution_count": 2,
   "id": "c0b7de50",
   "metadata": {},
   "outputs": [],
   "source": [
    "rgb_img = raw.postprocess()\n"
   ]
  },
  {
   "cell_type": "code",
   "execution_count": 3,
   "id": "791d593c",
   "metadata": {},
   "outputs": [
    {
     "data": {
      "text/plain": [
       "array([[[186, 148, 162],\n",
       "        [189, 147, 163],\n",
       "        [190, 150, 161],\n",
       "        ...,\n",
       "        [115,  94, 104],\n",
       "        [120,  90, 105],\n",
       "        [120,  87, 106]],\n",
       "\n",
       "       [[185, 149, 162],\n",
       "        [184, 151, 162],\n",
       "        [183, 154, 160],\n",
       "        ...,\n",
       "        [111,  92, 104],\n",
       "        [112,  92, 105],\n",
       "        [112,  93, 105]],\n",
       "\n",
       "       [[184, 152, 161],\n",
       "        [180, 156, 160],\n",
       "        [177, 154, 159],\n",
       "        ...,\n",
       "        [106,  91, 106],\n",
       "        [104,  95, 104],\n",
       "        [103,  99, 103]],\n",
       "\n",
       "       ...,\n",
       "\n",
       "       [[107,  85,  78],\n",
       "        [110,  85,  78],\n",
       "        [112,  84,  77],\n",
       "        ...,\n",
       "        [113,  76,  70],\n",
       "        [115,  74,  70],\n",
       "        [114,  80,  67]],\n",
       "\n",
       "       [[100,  85,  79],\n",
       "        [107,  85,  79],\n",
       "        [113,  84,  80],\n",
       "        ...,\n",
       "        [113,  79,  66],\n",
       "        [111,  78,  68],\n",
       "        [111,  79,  69]],\n",
       "\n",
       "       [[101,  83,  80],\n",
       "        [107,  84,  80],\n",
       "        [113,  83,  82],\n",
       "        ...,\n",
       "        [113,  80,  63],\n",
       "        [111,  80,  67],\n",
       "        [110,  79,  70]]], dtype=uint8)"
      ]
     },
     "execution_count": 3,
     "metadata": {},
     "output_type": "execute_result"
    }
   ],
   "source": [
    "rgb_img"
   ]
  },
  {
   "cell_type": "code",
   "execution_count": 4,
   "id": "f7de4adb",
   "metadata": {},
   "outputs": [],
   "source": [
    "# Colorspace transform (RGB -> YCrCb)\n",
    "ycc_img = cv2.cvtColor(rgb_img, cv2.COLOR_RGB2YCrCb)\n"
   ]
  },
  {
   "cell_type": "code",
   "execution_count": 5,
   "id": "5edc6cef",
   "metadata": {},
   "outputs": [
    {
     "data": {
      "text/plain": [
       "array([[[161, 146, 129],\n",
       "        [161, 148, 129],\n",
       "        [163, 147, 127],\n",
       "        ...,\n",
       "        [101, 138, 130],\n",
       "        [101, 142, 130],\n",
       "        [ 99, 143, 132]],\n",
       "\n",
       "       [[161, 145, 129],\n",
       "        [162, 144, 128],\n",
       "        [163, 142, 126],\n",
       "        ...,\n",
       "        [ 99, 137, 131],\n",
       "        [ 99, 137, 131],\n",
       "        [100, 137, 131]],\n",
       "\n",
       "       [[163, 143, 127],\n",
       "        [164, 139, 126],\n",
       "        [161, 139, 127],\n",
       "        ...,\n",
       "        [ 97, 134, 133],\n",
       "        [ 99, 132, 131],\n",
       "        [101, 129, 129]],\n",
       "\n",
       "       ...,\n",
       "\n",
       "       [[ 91, 139, 121],\n",
       "        [ 92, 141, 120],\n",
       "        [ 92, 142, 120],\n",
       "        ...,\n",
       "        [ 86, 147, 119],\n",
       "        [ 86, 149, 119],\n",
       "        [ 89, 146, 116]],\n",
       "\n",
       "       [[ 89, 136, 122],\n",
       "        [ 91, 139, 121],\n",
       "        [ 92, 143, 121],\n",
       "        ...,\n",
       "        [ 88, 146, 116],\n",
       "        [ 87, 145, 117],\n",
       "        [ 87, 145, 118]],\n",
       "\n",
       "       [[ 88, 137, 123],\n",
       "        [ 90, 140, 122],\n",
       "        [ 92, 143, 122],\n",
       "        ...,\n",
       "        [ 88, 146, 114],\n",
       "        [ 88, 144, 116],\n",
       "        [ 87, 144, 118]]], dtype=uint8)"
      ]
     },
     "execution_count": 5,
     "metadata": {},
     "output_type": "execute_result"
    }
   ],
   "source": [
    "ycc_img"
   ]
  },
  {
   "cell_type": "code",
   "execution_count": 6,
   "id": "62ce22da",
   "metadata": {},
   "outputs": [],
   "source": [
    "# Center\n",
    "ycc_img = ycc_img.astype(int)-128"
   ]
  },
  {
   "cell_type": "code",
   "execution_count": 7,
   "id": "04a6a915",
   "metadata": {},
   "outputs": [
    {
     "data": {
      "text/plain": [
       "array([[[ 33,  18,   1],\n",
       "        [ 33,  20,   1],\n",
       "        [ 35,  19,  -1],\n",
       "        ...,\n",
       "        [-27,  10,   2],\n",
       "        [-27,  14,   2],\n",
       "        [-29,  15,   4]],\n",
       "\n",
       "       [[ 33,  17,   1],\n",
       "        [ 34,  16,   0],\n",
       "        [ 35,  14,  -2],\n",
       "        ...,\n",
       "        [-29,   9,   3],\n",
       "        [-29,   9,   3],\n",
       "        [-28,   9,   3]],\n",
       "\n",
       "       [[ 35,  15,  -1],\n",
       "        [ 36,  11,  -2],\n",
       "        [ 33,  11,  -1],\n",
       "        ...,\n",
       "        [-31,   6,   5],\n",
       "        [-29,   4,   3],\n",
       "        [-27,   1,   1]],\n",
       "\n",
       "       ...,\n",
       "\n",
       "       [[-37,  11,  -7],\n",
       "        [-36,  13,  -8],\n",
       "        [-36,  14,  -8],\n",
       "        ...,\n",
       "        [-42,  19,  -9],\n",
       "        [-42,  21,  -9],\n",
       "        [-39,  18, -12]],\n",
       "\n",
       "       [[-39,   8,  -6],\n",
       "        [-37,  11,  -7],\n",
       "        [-36,  15,  -7],\n",
       "        ...,\n",
       "        [-40,  18, -12],\n",
       "        [-41,  17, -11],\n",
       "        [-41,  17, -10]],\n",
       "\n",
       "       [[-40,   9,  -5],\n",
       "        [-38,  12,  -6],\n",
       "        [-36,  15,  -6],\n",
       "        ...,\n",
       "        [-40,  18, -14],\n",
       "        [-40,  16, -12],\n",
       "        [-41,  16, -10]]])"
      ]
     },
     "execution_count": 7,
     "metadata": {},
     "output_type": "execute_result"
    }
   ],
   "source": [
    "ycc_img"
   ]
  },
  {
   "cell_type": "code",
   "execution_count": 8,
   "id": "790763aa",
   "metadata": {},
   "outputs": [],
   "source": [
    "# Downsampling\n",
    "Y = lum_downsample(ycc_img[:,:,0])\n",
    "Cr = chr_downsample(ycc_img[:,:,1])\n",
    "Cb = chr_downsample(ycc_img[:,:,2])\n",
    "ycc_img = np.stack((Y, Cr, Cb), axis=2)"
   ]
  },
  {
   "cell_type": "code",
   "execution_count": 9,
   "id": "3c9aeecd",
   "metadata": {},
   "outputs": [
    {
     "data": {
      "text/plain": [
       "array([[ 33,  33,  35, ..., -27, -27, -29],\n",
       "       [ 33,  34,  35, ..., -29, -29, -28],\n",
       "       [ 35,  36,  33, ..., -31, -29, -27],\n",
       "       ...,\n",
       "       [-37, -36, -36, ..., -42, -42, -39],\n",
       "       [-39, -37, -36, ..., -40, -41, -41],\n",
       "       [-40, -38, -36, ..., -40, -40, -41]])"
      ]
     },
     "execution_count": 9,
     "metadata": {},
     "output_type": "execute_result"
    }
   ],
   "source": [
    "Y"
   ]
  },
  {
   "cell_type": "code",
   "execution_count": 10,
   "id": "7f8772c7",
   "metadata": {},
   "outputs": [
    {
     "data": {
      "text/plain": [
       "6016"
      ]
     },
     "execution_count": 10,
     "metadata": {},
     "output_type": "execute_result"
    }
   ],
   "source": [
    "Y[0].size"
   ]
  },
  {
   "cell_type": "code",
   "execution_count": 11,
   "id": "f47ba6f5",
   "metadata": {},
   "outputs": [
    {
     "data": {
      "text/plain": [
       "6016"
      ]
     },
     "execution_count": 11,
     "metadata": {},
     "output_type": "execute_result"
    }
   ],
   "source": [
    "Cr[0].size"
   ]
  },
  {
   "cell_type": "code",
   "execution_count": 12,
   "id": "8974f83b",
   "metadata": {},
   "outputs": [
    {
     "data": {
      "text/plain": [
       "24160256"
      ]
     },
     "execution_count": 12,
     "metadata": {},
     "output_type": "execute_result"
    }
   ],
   "source": [
    "Cb.size"
   ]
  },
  {
   "cell_type": "code",
   "execution_count": 13,
   "id": "74f9554e",
   "metadata": {},
   "outputs": [
    {
     "data": {
      "text/plain": [
       "array([[[ 33,  18,   1],\n",
       "        [ 33,  18,   1],\n",
       "        [ 35,  17,  -1],\n",
       "        ...,\n",
       "        [-27,   9,   3],\n",
       "        [-27,  12,   3],\n",
       "        [-29,  12,   3]],\n",
       "\n",
       "       [[ 33,  18,   1],\n",
       "        [ 34,  18,   1],\n",
       "        [ 35,  17,  -1],\n",
       "        ...,\n",
       "        [-29,   9,   3],\n",
       "        [-29,  12,   3],\n",
       "        [-28,  12,   3]],\n",
       "\n",
       "       [[ 35,  13,  -2],\n",
       "        [ 36,  13,  -2],\n",
       "        [ 33,  13,  -1],\n",
       "        ...,\n",
       "        [-31,   7,   5],\n",
       "        [-29,   4,   2],\n",
       "        [-27,   4,   2]],\n",
       "\n",
       "       ...,\n",
       "\n",
       "       [[-37,  14,  -7],\n",
       "        [-36,  14,  -7],\n",
       "        [-36,  13,  -8],\n",
       "        ...,\n",
       "        [-42,  18,  -9],\n",
       "        [-42,  18, -11],\n",
       "        [-39,  18, -11]],\n",
       "\n",
       "       [[-39,  10,  -6],\n",
       "        [-37,  10,  -6],\n",
       "        [-36,  13,  -6],\n",
       "        ...,\n",
       "        [-40,  19, -12],\n",
       "        [-41,  16, -11],\n",
       "        [-41,  16, -11]],\n",
       "\n",
       "       [[-40,  10,  -6],\n",
       "        [-38,  10,  -6],\n",
       "        [-36,  13,  -6],\n",
       "        ...,\n",
       "        [-40,  19, -12],\n",
       "        [-40,  16, -11],\n",
       "        [-41,  16, -11]]])"
      ]
     },
     "execution_count": 13,
     "metadata": {},
     "output_type": "execute_result"
    }
   ],
   "source": [
    "ycc_img"
   ]
  },
  {
   "cell_type": "code",
   "execution_count": 14,
   "id": "9da8626a",
   "metadata": {},
   "outputs": [],
   "source": [
    "# Create 8x8 blocks\n",
    "blocks, indices = image_block.forward(ycc_img)"
   ]
  },
  {
   "cell_type": "code",
   "execution_count": 15,
   "id": "248ebabf",
   "metadata": {},
   "outputs": [
    {
     "data": {
      "text/plain": [
       "72480768"
      ]
     },
     "execution_count": 15,
     "metadata": {},
     "output_type": "execute_result"
    }
   ],
   "source": [
    "blocks.size"
   ]
  },
  {
   "cell_type": "code",
   "execution_count": 16,
   "id": "6004fde5",
   "metadata": {},
   "outputs": [
    {
     "data": {
      "text/plain": [
       "3397536"
      ]
     },
     "execution_count": 16,
     "metadata": {},
     "output_type": "execute_result"
    }
   ],
   "source": [
    "indices.size"
   ]
  },
  {
   "cell_type": "code",
   "execution_count": null,
   "id": "9bcef923",
   "metadata": {},
   "outputs": [],
   "source": [
    "toEncode_Y = []\n",
    "toEncode_CbCr = []\n",
    "def process_block(block, index):\n",
    "    \n",
    "    #Prediction  -> Prediction error\n",
    "    \n",
    "    # DCT\n",
    "    encoded = dct2d.forward(block)\n",
    "    if index[2] == 0:\n",
    "        channel_type = 'lum'\n",
    "    else:\n",
    "        channel_type = 'chr'\n",
    "        \n",
    "    # Quantization\n",
    "    encoded = quantization.forward(encoded, channel_type)\n",
    "    \n",
    "    # RLE + zigzag scanning\n",
    "    encoded = zigzagScanning.forward(encoded)\n",
    "    encoded = rle.forward(encoded)\n",
    "    \n",
    "    assert channel_type in ('lum', 'chr')\n",
    "        \n",
    "    if channel_type == 'lum':\n",
    "        toEncode_Y.append(encoded)\n",
    "    else:\n",
    "        toEncode_CbCr.append(encoded)\n",
    "\n",
    "    # Reverse Entropy coding (Arithmetic)\n",
    "    #decoded = entropy.backward(encoded, prob)\n",
    "    decoded = rle.backward(encoded)\n",
    "    # Reverse RLE + zigzag scanning\n",
    "    decoded = zigzagScanning.backward(decoded)\n",
    "    # Dequantization\n",
    "    decoded = quantization.backward(decoded, channel_type)\n",
    "    \n",
    "    # Reverse DCT\n",
    "    compressed = dct2d.backward(decoded)\n",
    "    return compressed,\n",
    "\n",
    "    #Reverse Prediction "
   ]
  },
  {
   "cell_type": "code",
   "execution_count": 52,
   "id": "059e0613",
   "metadata": {},
   "outputs": [
    {
     "ename": "KeyboardInterrupt",
     "evalue": "",
     "output_type": "error",
     "traceback": [
      "\u001b[1;31m---------------------------------------------------------------------------\u001b[0m",
      "\u001b[1;31mKeyboardInterrupt\u001b[0m                         Traceback (most recent call last)",
      "Cell \u001b[1;32mIn[52], line 3\u001b[0m\n\u001b[0;32m      1\u001b[0m compressed \u001b[39m=\u001b[39m []\n\u001b[0;32m      2\u001b[0m \u001b[39mfor\u001b[39;00m i \u001b[39min\u001b[39;00m \u001b[39mrange\u001b[39m(\u001b[39m0\u001b[39m,\u001b[39mint\u001b[39m(blocks\u001b[39m.\u001b[39msize\u001b[39m/\u001b[39m\u001b[39m64\u001b[39m)\u001b[39m-\u001b[39m\u001b[39m1\u001b[39m):\n\u001b[1;32m----> 3\u001b[0m   compressed\u001b[39m.\u001b[39mappend(process_block(blocks[i],indices[i]))\n",
      "Cell \u001b[1;32mIn[49], line 32\u001b[0m, in \u001b[0;36mprocess_block\u001b[1;34m(block, index)\u001b[0m\n\u001b[0;32m     29\u001b[0m decoded \u001b[39m=\u001b[39m quantization\u001b[39m.\u001b[39mbackward(decoded, channel_type)\n\u001b[0;32m     31\u001b[0m \u001b[39m# Reverse DCT\u001b[39;00m\n\u001b[1;32m---> 32\u001b[0m compressed \u001b[39m=\u001b[39m dct2d\u001b[39m.\u001b[39;49mbackward(decoded)\n\u001b[0;32m     33\u001b[0m \u001b[39mreturn\u001b[39;00m compressed, encoded_array\n",
      "File \u001b[1;32mc:\\Users\\Zithanos\\Advanced_image_compression_project\\utils.py:105\u001b[0m, in \u001b[0;36mDCT2D.backward\u001b[1;34m(self, x)\u001b[0m\n\u001b[0;32m    104\u001b[0m \u001b[39mdef\u001b[39;00m \u001b[39mbackward\u001b[39m(\u001b[39mself\u001b[39m,x):\n\u001b[1;32m--> 105\u001b[0m     out \u001b[39m=\u001b[39m dct(dct(x, \u001b[39mtype\u001b[39;49m\u001b[39m=\u001b[39;49m\u001b[39m3\u001b[39;49m, norm\u001b[39m=\u001b[39;49m\u001b[39mself\u001b[39;49m\u001b[39m.\u001b[39;49mnorm, axis\u001b[39m=\u001b[39;49m\u001b[39m0\u001b[39;49m), \u001b[39mtype\u001b[39m\u001b[39m=\u001b[39m\u001b[39m3\u001b[39m, norm\u001b[39m=\u001b[39m\u001b[39mself\u001b[39m\u001b[39m.\u001b[39mnorm, axis\u001b[39m=\u001b[39m\u001b[39m1\u001b[39m)\n\u001b[0;32m    106\u001b[0m     \u001b[39mreturn\u001b[39;00m np\u001b[39m.\u001b[39mround(out)\n",
      "File \u001b[1;32m~\\AppData\\Roaming\\Python\\Python311\\site-packages\\scipy\\fft\\_backend.py:25\u001b[0m, in \u001b[0;36m_ScipyBackend.__ua_function__\u001b[1;34m(method, args, kwargs)\u001b[0m\n\u001b[0;32m     23\u001b[0m \u001b[39mif\u001b[39;00m fn \u001b[39mis\u001b[39;00m \u001b[39mNone\u001b[39;00m:\n\u001b[0;32m     24\u001b[0m     \u001b[39mreturn\u001b[39;00m \u001b[39mNotImplemented\u001b[39m\n\u001b[1;32m---> 25\u001b[0m \u001b[39mreturn\u001b[39;00m fn(\u001b[39m*\u001b[39;49margs, \u001b[39m*\u001b[39;49m\u001b[39m*\u001b[39;49mkwargs)\n",
      "File \u001b[1;32m~\\AppData\\Roaming\\Python\\Python311\\site-packages\\scipy\\fft\\_pocketfft\\realtransforms.py:46\u001b[0m, in \u001b[0;36m_r2r\u001b[1;34m(forward, transform, x, type, n, axis, norm, overwrite_x, workers, orthogonalize)\u001b[0m\n\u001b[0;32m     43\u001b[0m     transform(tmp\u001b[39m.\u001b[39mimag, \u001b[39mtype\u001b[39m, (axis,), norm, out\u001b[39m.\u001b[39mimag, workers)\n\u001b[0;32m     44\u001b[0m     \u001b[39mreturn\u001b[39;00m out\n\u001b[1;32m---> 46\u001b[0m \u001b[39mreturn\u001b[39;00m transform(tmp, \u001b[39mtype\u001b[39;49m, (axis,), norm, out, workers, orthogonalize)\n",
      "\u001b[1;31mKeyboardInterrupt\u001b[0m: "
     ]
    }
   ],
   "source": [
    "compressed = []\n",
    "for i in range(0,int(blocks.size/64)-1):\n",
    "  compressed.append(process_block(blocks[i],indices[i]))\n",
    "  \n",
    "encodedY, codebook = entropy.huffman_encoding(toEncode_Y)\n",
    "encodedCbCr, codebook= entropy.huffman_encoding(toEncode_CbCr)"
   ]
  },
  {
   "cell_type": "code",
   "execution_count": 37,
   "id": "47404f96",
   "metadata": {},
   "outputs": [],
   "source": [
    "ycc_img_compressed = image_block.backward(compressed, indices)"
   ]
  },
  {
   "cell_type": "code",
   "execution_count": 38,
   "id": "d1fe20c7",
   "metadata": {},
   "outputs": [],
   "source": [
    "ycc_img_compressed = (ycc_img_compressed+128).astype('uint8')"
   ]
  },
  {
   "cell_type": "code",
   "execution_count": 39,
   "id": "ead29727",
   "metadata": {},
   "outputs": [],
   "source": [
    "rgb_img_compressed = cv2.cvtColor(ycc_img_compressed, cv2.COLOR_YCrCb2RGB)"
   ]
  },
  {
   "cell_type": "code",
   "execution_count": 44,
   "id": "bf4745df",
   "metadata": {},
   "outputs": [],
   "source": [
    "Image.fromarray(rgb_img_compressed).save(os.path.join('images', 'result.bmp'))"
   ]
  },
  {
   "cell_type": "code",
   "execution_count": 69,
   "id": "80e9389d",
   "metadata": {},
   "outputs": [
    {
     "data": {
      "text/plain": [
       "array([  0, 208,   0])"
      ]
     },
     "execution_count": 69,
     "metadata": {},
     "output_type": "execute_result"
    }
   ],
   "source": [
    "indices[78]"
   ]
  },
  {
   "cell_type": "code",
   "execution_count": 54,
   "id": "60412258",
   "metadata": {},
   "outputs": [
    {
     "data": {
      "text/plain": [
       "array([[ 2.90875000e+02, -1.69478363e+00, -2.73681813e+00,\n",
       "        -5.10360788e-01,  1.25000000e-01,  7.47819060e-01,\n",
       "        -1.70765234e+00, -4.95486606e-01],\n",
       "       [-1.91283896e+00,  2.78086824e+00, -2.77867035e+00,\n",
       "        -2.05006442e+00, -6.21193306e-01,  1.30527032e+00,\n",
       "        -2.32448968e-01, -2.78484139e-01],\n",
       "       [-3.63748402e+00, -1.22562078e+00, -3.98115530e+00,\n",
       "        -4.30722302e+00,  2.87211716e+00,  2.31084434e-01,\n",
       "         2.16161165e+00,  5.88808898e-01],\n",
       "       [-2.88624110e+00,  7.19638354e-01,  6.51968137e-01,\n",
       "        -1.72001784e+00, -1.09145256e-01,  1.90909753e+00,\n",
       "        -2.62688272e-02,  4.75861606e-01],\n",
       "       [ 6.25000000e-01, -8.20471429e-01, -6.41674661e-01,\n",
       "         2.46860233e+00,  1.37500000e+00, -7.15009036e-01,\n",
       "        -1.22249893e+00,  1.07661100e+00],\n",
       "       [-1.07366907e+00,  3.47361699e-01,  9.09840038e-01,\n",
       "        -1.33795685e-01,  2.01950297e-01,  1.30580428e+00,\n",
       "         2.74192253e-01, -8.71351903e-01],\n",
       "       [-3.22877066e+00, -6.08120201e-01, -2.33838835e+00,\n",
       "        -4.49861408e-01,  1.38101160e+00,  1.06219101e-01,\n",
       "        -2.68844699e-01,  5.80620032e-01],\n",
       "       [ 3.22806353e+00,  3.17862264e+00,  5.15382981e-01,\n",
       "         2.85719934e-01, -6.11491837e-01, -8.73287726e-01,\n",
       "        -7.48072907e-02, -3.66654674e-01]])"
      ]
     },
     "execution_count": 54,
     "metadata": {},
     "output_type": "execute_result"
    }
   ],
   "source": [
    "encoded = dct2d.forward(blocks[45])\n",
    "encoded"
   ]
  },
  {
   "cell_type": "code",
   "execution_count": 70,
   "id": "26fac779",
   "metadata": {},
   "outputs": [
    {
     "ename": "TypeError",
     "evalue": "only integer scalar arrays can be converted to a scalar index",
     "output_type": "error",
     "traceback": [
      "\u001b[1;31m---------------------------------------------------------------------------\u001b[0m",
      "\u001b[1;31mTypeError\u001b[0m                                 Traceback (most recent call last)",
      "Cell \u001b[1;32mIn[70], line 1\u001b[0m\n\u001b[1;32m----> 1\u001b[0m \u001b[39mfor\u001b[39;00m block \u001b[39min\u001b[39;00m \u001b[39menumerate\u001b[39;49m(\u001b[39m0\u001b[39;49m,blocks):\n\u001b[0;32m      2\u001b[0m         \u001b[39mif\u001b[39;00m indices[block] \u001b[39m==\u001b[39m \u001b[39m0\u001b[39m:\n\u001b[0;32m      3\u001b[0m                 channel_type \u001b[39m=\u001b[39m \u001b[39m'\u001b[39m\u001b[39mlum\u001b[39m\u001b[39m'\u001b[39m\n",
      "\u001b[1;31mTypeError\u001b[0m: only integer scalar arrays can be converted to a scalar index"
     ]
    }
   ],
   "source": [
    "for block in enumerate(0,blocks):\n",
    "        if indices[block] == 0:\n",
    "                channel_type = 'lum'\n",
    "                print(block)\n",
    "                break\n",
    "        else:\n",
    "                channel_type = 'chr'\n",
    "        index    \n",
    "    # Quantization\n",
    "encoded = quantization.forward(encoded, channel_type)\n",
    "encoded"
   ]
  },
  {
   "cell_type": "code",
   "execution_count": 56,
   "id": "805fb258",
   "metadata": {},
   "outputs": [
    {
     "data": {
      "text/plain": [
       "[18.0,\n",
       " -0.0,\n",
       " -0.0,\n",
       " -0.0,\n",
       " 0.0,\n",
       " -0.0,\n",
       " -0.0,\n",
       " 0.0,\n",
       " -0.0,\n",
       " 0.0,\n",
       " -0.0,\n",
       " -0.0,\n",
       " -0.0,\n",
       " 0.0,\n",
       " -0.0,\n",
       " -0.0,\n",
       " -0.0,\n",
       " -0.0,\n",
       " -0.0,\n",
       " 0.0,\n",
       " 0.0,\n",
       " 0.0,\n",
       " 0.0,\n",
       " 0.0,\n",
       " -0.0,\n",
       " 0.0,\n",
       " -0.0,\n",
       " -0.0,\n",
       " 0.0,\n",
       " 0.0,\n",
       " -0.0,\n",
       " 0.0,\n",
       " 0.0,\n",
       " -0.0,\n",
       " -0.0,\n",
       " -0.0,\n",
       " 0.0,\n",
       " 0.0,\n",
       " -0.0,\n",
       " -0.0,\n",
       " 0.0,\n",
       " 0.0,\n",
       " 0.0,\n",
       " -0.0,\n",
       " -0.0,\n",
       " 0.0,\n",
       " 0.0,\n",
       " -0.0,\n",
       " -0.0,\n",
       " -0.0,\n",
       " -0.0,\n",
       " -0.0,\n",
       " 0.0,\n",
       " 0.0,\n",
       " -0.0,\n",
       " -0.0,\n",
       " -0.0,\n",
       " 0.0,\n",
       " 0.0,\n",
       " 0.0,\n",
       " 0.0,\n",
       " -0.0,\n",
       " 0.0,\n",
       " -0.0]"
      ]
     },
     "execution_count": 56,
     "metadata": {},
     "output_type": "execute_result"
    }
   ],
   "source": [
    "encoded = zigzagScanning.forward(encoded)\n",
    "encoded"
   ]
  },
  {
   "cell_type": "code",
   "execution_count": 57,
   "id": "d47d7747",
   "metadata": {},
   "outputs": [
    {
     "data": {
      "text/plain": [
       "[(18.0, 1), (-0.0, 63)]"
      ]
     },
     "execution_count": 57,
     "metadata": {},
     "output_type": "execute_result"
    }
   ],
   "source": [
    "encoded = rle.forward(encoded)\n",
    "encoded"
   ]
  },
  {
   "cell_type": "code",
   "execution_count": 66,
   "id": "d0c4775b",
   "metadata": {},
   "outputs": [
    {
     "ename": "TypeError",
     "evalue": "'int' object is not iterable",
     "output_type": "error",
     "traceback": [
      "\u001b[1;31m---------------------------------------------------------------------------\u001b[0m",
      "\u001b[1;31mTypeError\u001b[0m                                 Traceback (most recent call last)",
      "Cell \u001b[1;32mIn[66], line 1\u001b[0m\n\u001b[1;32m----> 1\u001b[0m encoded, prob \u001b[39m=\u001b[39m entropy\u001b[39m.\u001b[39;49mforward(encoded)\n\u001b[0;32m      2\u001b[0m encoded\n",
      "File \u001b[1;32mc:\\Users\\Zithanos\\Advanced_image_compression_project\\utils.py:161\u001b[0m, in \u001b[0;36mEntropy.forward\u001b[1;34m(self, seq)\u001b[0m\n\u001b[0;32m    158\u001b[0m \u001b[39mdef\u001b[39;00m \u001b[39mforward\u001b[39m(\u001b[39mself\u001b[39m,seq):\n\u001b[0;32m    159\u001b[0m     \u001b[39m# create a dictionary to store the frequency of each symbol\u001b[39;00m\n\u001b[0;32m    160\u001b[0m     freq \u001b[39m=\u001b[39m {}\n\u001b[1;32m--> 161\u001b[0m     \u001b[39mfor\u001b[39;00m symbol \u001b[39min\u001b[39;00m seq:\n\u001b[0;32m    162\u001b[0m         \u001b[39mif\u001b[39;00m symbol \u001b[39min\u001b[39;00m freq:\n\u001b[0;32m    163\u001b[0m             freq[symbol] \u001b[39m+\u001b[39m\u001b[39m=\u001b[39m \u001b[39m1\u001b[39m\n",
      "\u001b[1;31mTypeError\u001b[0m: 'int' object is not iterable"
     ]
    }
   ],
   "source": [
    "\n",
    "encoded, prob = entropy.forward(encoded)\n",
    "encoded"
   ]
  },
  {
   "cell_type": "code",
   "execution_count": 58,
   "id": "4e13c32d",
   "metadata": {},
   "outputs": [
    {
     "data": {
      "text/plain": [
       "[18.0,\n",
       " -0.0,\n",
       " -0.0,\n",
       " -0.0,\n",
       " -0.0,\n",
       " -0.0,\n",
       " -0.0,\n",
       " -0.0,\n",
       " -0.0,\n",
       " -0.0,\n",
       " -0.0,\n",
       " -0.0,\n",
       " -0.0,\n",
       " -0.0,\n",
       " -0.0,\n",
       " -0.0,\n",
       " -0.0,\n",
       " -0.0,\n",
       " -0.0,\n",
       " -0.0,\n",
       " -0.0,\n",
       " -0.0,\n",
       " -0.0,\n",
       " -0.0,\n",
       " -0.0,\n",
       " -0.0,\n",
       " -0.0,\n",
       " -0.0,\n",
       " -0.0,\n",
       " -0.0,\n",
       " -0.0,\n",
       " -0.0,\n",
       " -0.0,\n",
       " -0.0,\n",
       " -0.0,\n",
       " -0.0,\n",
       " -0.0,\n",
       " -0.0,\n",
       " -0.0,\n",
       " -0.0,\n",
       " -0.0,\n",
       " -0.0,\n",
       " -0.0,\n",
       " -0.0,\n",
       " -0.0,\n",
       " -0.0,\n",
       " -0.0,\n",
       " -0.0,\n",
       " -0.0,\n",
       " -0.0,\n",
       " -0.0,\n",
       " -0.0,\n",
       " -0.0,\n",
       " -0.0,\n",
       " -0.0,\n",
       " -0.0,\n",
       " -0.0,\n",
       " -0.0,\n",
       " -0.0,\n",
       " -0.0,\n",
       " -0.0,\n",
       " -0.0,\n",
       " -0.0,\n",
       " -0.0]"
      ]
     },
     "execution_count": 58,
     "metadata": {},
     "output_type": "execute_result"
    }
   ],
   "source": [
    "decoded = rle.backward(encoded)\n",
    "decoded"
   ]
  },
  {
   "cell_type": "code",
   "execution_count": 59,
   "id": "8af93ff6",
   "metadata": {},
   "outputs": [
    {
     "data": {
      "text/plain": [
       "[[18.0, -0.0, -0.0, -0.0, -0.0, -0.0, -0.0, -0.0],\n",
       " [-0.0, -0.0, -0.0, -0.0, -0.0, -0.0, -0.0, -0.0],\n",
       " [-0.0, -0.0, -0.0, -0.0, -0.0, -0.0, -0.0, -0.0],\n",
       " [-0.0, -0.0, -0.0, -0.0, -0.0, -0.0, -0.0, -0.0],\n",
       " [-0.0, -0.0, -0.0, -0.0, -0.0, -0.0, -0.0, -0.0],\n",
       " [-0.0, -0.0, -0.0, -0.0, -0.0, -0.0, -0.0, -0.0],\n",
       " [-0.0, -0.0, -0.0, -0.0, -0.0, -0.0, -0.0, -0.0],\n",
       " [-0.0, -0.0, -0.0, -0.0, -0.0, -0.0, -0.0, -0.0]]"
      ]
     },
     "execution_count": 59,
     "metadata": {},
     "output_type": "execute_result"
    }
   ],
   "source": [
    "decoded = zigzagScanning.backward(decoded)\n",
    "decoded"
   ]
  },
  {
   "cell_type": "code",
   "execution_count": 60,
   "id": "681554c7",
   "metadata": {},
   "outputs": [
    {
     "data": {
      "text/plain": [
       "array([[288.,  -0.,  -0.,  -0.,  -0.,  -0.,  -0.,  -0.],\n",
       "       [ -0.,  -0.,  -0.,  -0.,  -0.,  -0.,  -0.,  -0.],\n",
       "       [ -0.,  -0.,  -0.,  -0.,  -0.,  -0.,  -0.,  -0.],\n",
       "       [ -0.,  -0.,  -0.,  -0.,  -0.,  -0.,  -0.,  -0.],\n",
       "       [ -0.,  -0.,  -0.,  -0.,  -0.,  -0.,  -0.,  -0.],\n",
       "       [ -0.,  -0.,  -0.,  -0.,  -0.,  -0.,  -0.,  -0.],\n",
       "       [ -0.,  -0.,  -0.,  -0.,  -0.,  -0.,  -0.,  -0.],\n",
       "       [ -0.,  -0.,  -0.,  -0.,  -0.,  -0.,  -0.,  -0.]])"
      ]
     },
     "execution_count": 60,
     "metadata": {},
     "output_type": "execute_result"
    }
   ],
   "source": [
    "decoded = quantization.backward(decoded, channel_type)\n",
    "decoded"
   ]
  },
  {
   "cell_type": "code",
   "execution_count": 61,
   "id": "107814fd",
   "metadata": {},
   "outputs": [
    {
     "data": {
      "text/plain": [
       "array([[36., 36., 36., 36., 36., 36., 36., 36.],\n",
       "       [36., 36., 36., 36., 36., 36., 36., 36.],\n",
       "       [36., 36., 36., 36., 36., 36., 36., 36.],\n",
       "       [36., 36., 36., 36., 36., 36., 36., 36.],\n",
       "       [36., 36., 36., 36., 36., 36., 36., 36.],\n",
       "       [36., 36., 36., 36., 36., 36., 36., 36.],\n",
       "       [36., 36., 36., 36., 36., 36., 36., 36.],\n",
       "       [36., 36., 36., 36., 36., 36., 36., 36.]])"
      ]
     },
     "execution_count": 61,
     "metadata": {},
     "output_type": "execute_result"
    }
   ],
   "source": [
    "compressed = dct2d.backward(decoded)\n",
    "compressed"
   ]
  },
  {
   "cell_type": "code",
   "execution_count": 47,
   "id": "2af19d4f",
   "metadata": {},
   "outputs": [],
   "source": [
    "\n",
    "\n",
    "    \n",
    "    # RLE + zigzag scanning\n",
    "\n",
    "encoded1, prob = entropy.forward(encoded)\n",
    "encoded_array.append(encoded1)\n",
    "decoded = rle.backward(encoded)\n",
    "    # Reverse RLE + zigzag scanning\n",
    "decoded = zigzagScanning.backward(decoded)\n",
    "    # Dequantization\n",
    "decoded = quantization.backward(decoded, channel_type)\n",
    "    \n",
    "    # Reverse DCT\n",
    "compressed = dct2d.backward(decoded)\n"
   ]
  },
  {
   "cell_type": "code",
   "execution_count": 48,
   "id": "0e3606ca",
   "metadata": {},
   "outputs": [
    {
     "data": {
      "text/plain": [
       "[1]"
      ]
     },
     "execution_count": 48,
     "metadata": {},
     "output_type": "execute_result"
    }
   ],
   "source": [
    "encoded_array"
   ]
  }
 ],
 "metadata": {
  "kernelspec": {
   "display_name": "Python 3 (ipykernel)",
   "language": "python",
   "name": "python3"
  },
  "language_info": {
   "codemirror_mode": {
    "name": "ipython",
    "version": 3
   },
   "file_extension": ".py",
   "mimetype": "text/x-python",
   "name": "python",
   "nbconvert_exporter": "python",
   "pygments_lexer": "ipython3",
   "version": "3.11.2"
  },
  "vscode": {
   "interpreter": {
    "hash": "5238573367df39f7286bb46f9ff5f08f63a01a80960060ce41e3c79b190280fa"
   }
  }
 },
 "nbformat": 4,
 "nbformat_minor": 5
}
