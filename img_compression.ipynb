{
 "cells": [
  {
   "cell_type": "code",
   "execution_count": 1,
   "id": "43b878e8",
   "metadata": {},
   "outputs": [],
   "source": [
    "import rawpy\n",
    "import cv2\n",
    "from PIL import Image\n",
    "import numpy as np\n",
    "from multiprocessing.pool import Pool\n",
    "import utils\n",
    "import os\n",
    "\n",
    "\n",
    "###############################################################################\n",
    "# Instantiation\n",
    "###############################################################################\n",
    "lum_downsample = utils.Downsampling(ratio='4:4:4')\n",
    "chr_downsample = utils.Downsampling(ratio='4:2:0')\n",
    "image_block = utils.ImageBlock(block_height=8, block_width=8)\n",
    "dct2d = utils.DCT2D(norm='ortho')\n",
    "quantization = utils.Quantization()\n",
    "zigzagScanning = utils.ZigzagScanning()\n",
    "rle = utils.RLE()\n",
    "entropy = utils.Entropy()\n",
    "###############################################################################\n",
    "# Preprocess\n",
    "###############################################################################\n",
    "# Read raw image file as array\n",
    "# Generate random pixel values\n",
    "raw = rawpy.imread(os.path.join('images', 'DSC05719.ARW'))\n",
    "\n",
    "    \n",
    "\n",
    "\n"
   ]
  },
  {
   "cell_type": "code",
   "execution_count": 2,
   "id": "c0b7de50",
   "metadata": {},
   "outputs": [],
   "source": [
    "rgb_img = raw.postprocess()\n"
   ]
  },
  {
   "cell_type": "code",
   "execution_count": 3,
   "id": "791d593c",
   "metadata": {},
   "outputs": [
    {
     "data": {
      "text/plain": [
       "array([[[123, 119,  61],\n",
       "        [121, 119,  61],\n",
       "        [120, 118,  63],\n",
       "        ...,\n",
       "        [131, 127,  72],\n",
       "        [133, 126,  71],\n",
       "        [133, 128,  69]],\n",
       "\n",
       "       [[120, 120,  61],\n",
       "        [120, 119,  61],\n",
       "        [120, 119,  63],\n",
       "        ...,\n",
       "        [131, 123,  74],\n",
       "        [134, 123,  72],\n",
       "        [133, 126,  70]],\n",
       "\n",
       "       [[116, 121,  62],\n",
       "        [118, 120,  63],\n",
       "        [121, 118,  63],\n",
       "        ...,\n",
       "        [130, 124,  71],\n",
       "        [133, 124,  70],\n",
       "        [132, 127,  69]],\n",
       "\n",
       "       ...,\n",
       "\n",
       "       [[165, 149,  81],\n",
       "        [167, 148,  82],\n",
       "        [169, 150,  82],\n",
       "        ...,\n",
       "        [148, 130,  67],\n",
       "        [151, 131,  66],\n",
       "        [151, 130,  67]],\n",
       "\n",
       "       [[166, 149,  80],\n",
       "        [169, 145,  82],\n",
       "        [170, 148,  82],\n",
       "        ...,\n",
       "        [147, 128,  68],\n",
       "        [152, 129,  67],\n",
       "        [152, 129,  68]],\n",
       "\n",
       "       [[164, 152,  77],\n",
       "        [168, 149,  78],\n",
       "        [170, 149,  81],\n",
       "        ...,\n",
       "        [147, 129,  68],\n",
       "        [152, 129,  68],\n",
       "        [152, 129,  69]]], dtype=uint8)"
      ]
     },
     "execution_count": 3,
     "metadata": {},
     "output_type": "execute_result"
    }
   ],
   "source": [
    "rgb_img"
   ]
  },
  {
   "cell_type": "code",
   "execution_count": 4,
   "id": "f7de4adb",
   "metadata": {},
   "outputs": [],
   "source": [
    "# Colorspace transform (RGB -> YCrCb)\n",
    "ycc_img = cv2.cvtColor(rgb_img, cv2.COLOR_RGB2YCrCb)\n"
   ]
  },
  {
   "cell_type": "code",
   "execution_count": 5,
   "id": "5edc6cef",
   "metadata": {},
   "outputs": [
    {
     "data": {
      "text/plain": [
       "array([[[114, 134,  98],\n",
       "        [113, 134,  99],\n",
       "        [112, 134, 100],\n",
       "        ...,\n",
       "        [122, 134, 100],\n",
       "        [122, 136,  99],\n",
       "        [123, 135,  98]],\n",
       "\n",
       "       [[113, 133,  99],\n",
       "        [113, 133,  99],\n",
       "        [113, 133, 100],\n",
       "        ...,\n",
       "        [120, 136, 102],\n",
       "        [120, 138, 101],\n",
       "        [122, 136,  99]],\n",
       "\n",
       "       [[113, 130,  99],\n",
       "        [113, 132, 100],\n",
       "        [113, 134, 100],\n",
       "        ...,\n",
       "        [120, 135, 100],\n",
       "        [121, 137,  99],\n",
       "        [122, 135,  98]],\n",
       "\n",
       "       ...,\n",
       "\n",
       "       [[146, 142,  91],\n",
       "        [146, 143,  92],\n",
       "        [148, 143,  91],\n",
       "        ...,\n",
       "        [128, 142,  94],\n",
       "        [130, 143,  92],\n",
       "        [129, 144,  93]],\n",
       "\n",
       "       [[146, 142,  91],\n",
       "        [145, 145,  92],\n",
       "        [147, 144,  91],\n",
       "        ...,\n",
       "        [127, 142,  95],\n",
       "        [129, 144,  93],\n",
       "        [129, 144,  94]],\n",
       "\n",
       "       [[147, 140,  89],\n",
       "        [147, 143,  89],\n",
       "        [148, 144,  90],\n",
       "        ...,\n",
       "        [127, 142,  95],\n",
       "        [129, 144,  94],\n",
       "        [129, 144,  94]]], dtype=uint8)"
      ]
     },
     "execution_count": 5,
     "metadata": {},
     "output_type": "execute_result"
    }
   ],
   "source": [
    "ycc_img"
   ]
  },
  {
   "cell_type": "code",
   "execution_count": 6,
   "id": "62ce22da",
   "metadata": {},
   "outputs": [],
   "source": [
    "# Center\n",
    "ycc_img = ycc_img.astype(int)-128"
   ]
  },
  {
   "cell_type": "code",
   "execution_count": 7,
   "id": "04a6a915",
   "metadata": {},
   "outputs": [
    {
     "data": {
      "text/plain": [
       "array([[[-14,   6, -30],\n",
       "        [-15,   6, -29],\n",
       "        [-16,   6, -28],\n",
       "        ...,\n",
       "        [ -6,   6, -28],\n",
       "        [ -6,   8, -29],\n",
       "        [ -5,   7, -30]],\n",
       "\n",
       "       [[-15,   5, -29],\n",
       "        [-15,   5, -29],\n",
       "        [-15,   5, -28],\n",
       "        ...,\n",
       "        [ -8,   8, -26],\n",
       "        [ -8,  10, -27],\n",
       "        [ -6,   8, -29]],\n",
       "\n",
       "       [[-15,   2, -29],\n",
       "        [-15,   4, -28],\n",
       "        [-15,   6, -28],\n",
       "        ...,\n",
       "        [ -8,   7, -28],\n",
       "        [ -7,   9, -29],\n",
       "        [ -6,   7, -30]],\n",
       "\n",
       "       ...,\n",
       "\n",
       "       [[ 18,  14, -37],\n",
       "        [ 18,  15, -36],\n",
       "        [ 20,  15, -37],\n",
       "        ...,\n",
       "        [  0,  14, -34],\n",
       "        [  2,  15, -36],\n",
       "        [  1,  16, -35]],\n",
       "\n",
       "       [[ 18,  14, -37],\n",
       "        [ 17,  17, -36],\n",
       "        [ 19,  16, -37],\n",
       "        ...,\n",
       "        [ -1,  14, -33],\n",
       "        [  1,  16, -35],\n",
       "        [  1,  16, -34]],\n",
       "\n",
       "       [[ 19,  12, -39],\n",
       "        [ 19,  15, -39],\n",
       "        [ 20,  16, -38],\n",
       "        ...,\n",
       "        [ -1,  14, -33],\n",
       "        [  1,  16, -34],\n",
       "        [  1,  16, -34]]])"
      ]
     },
     "execution_count": 7,
     "metadata": {},
     "output_type": "execute_result"
    }
   ],
   "source": [
    "ycc_img"
   ]
  },
  {
   "cell_type": "code",
   "execution_count": 8,
   "id": "790763aa",
   "metadata": {},
   "outputs": [],
   "source": [
    "# Downsampling\n",
    "Y = lum_downsample(ycc_img[:,:,0])\n",
    "Cr = chr_downsample(ycc_img[:,:,1])\n",
    "Cb = chr_downsample(ycc_img[:,:,2])\n",
    "ycc_img = np.stack((Y, Cr, Cb), axis=2)"
   ]
  },
  {
   "cell_type": "code",
   "execution_count": 9,
   "id": "3c9aeecd",
   "metadata": {},
   "outputs": [
    {
     "data": {
      "text/plain": [
       "array([[-14, -15, -16, ...,  -6,  -6,  -5],\n",
       "       [-15, -15, -15, ...,  -8,  -8,  -6],\n",
       "       [-15, -15, -15, ...,  -8,  -7,  -6],\n",
       "       ...,\n",
       "       [ 18,  18,  20, ...,   0,   2,   1],\n",
       "       [ 18,  17,  19, ...,  -1,   1,   1],\n",
       "       [ 19,  19,  20, ...,  -1,   1,   1]])"
      ]
     },
     "execution_count": 9,
     "metadata": {},
     "output_type": "execute_result"
    }
   ],
   "source": [
    "Y"
   ]
  },
  {
   "cell_type": "code",
   "execution_count": 10,
   "id": "7f8772c7",
   "metadata": {},
   "outputs": [
    {
     "data": {
      "text/plain": [
       "6024"
      ]
     },
     "execution_count": 10,
     "metadata": {},
     "output_type": "execute_result"
    }
   ],
   "source": [
    "Y[0].size"
   ]
  },
  {
   "cell_type": "code",
   "execution_count": 11,
   "id": "f47ba6f5",
   "metadata": {},
   "outputs": [
    {
     "data": {
      "text/plain": [
       "6024"
      ]
     },
     "execution_count": 11,
     "metadata": {},
     "output_type": "execute_result"
    }
   ],
   "source": [
    "Cr[0].size"
   ]
  },
  {
   "cell_type": "code",
   "execution_count": 12,
   "id": "8974f83b",
   "metadata": {},
   "outputs": [
    {
     "data": {
      "text/plain": [
       "24240576"
      ]
     },
     "execution_count": 12,
     "metadata": {},
     "output_type": "execute_result"
    }
   ],
   "source": [
    "Cb.size"
   ]
  },
  {
   "cell_type": "code",
   "execution_count": 13,
   "id": "74f9554e",
   "metadata": {},
   "outputs": [
    {
     "data": {
      "text/plain": [
       "array([[[-14,   6, -29],\n",
       "        [-15,   6, -29],\n",
       "        [-16,   6, -28],\n",
       "        ...,\n",
       "        [ -6,   8, -26],\n",
       "        [ -6,   8, -29],\n",
       "        [ -5,   8, -29]],\n",
       "\n",
       "       [[-15,   6, -29],\n",
       "        [-15,   6, -29],\n",
       "        [-15,   6, -28],\n",
       "        ...,\n",
       "        [ -8,   8, -26],\n",
       "        [ -8,   8, -29],\n",
       "        [ -6,   8, -29]],\n",
       "\n",
       "       [[-15,   4, -28],\n",
       "        [-15,   4, -28],\n",
       "        [-15,   6, -28],\n",
       "        ...,\n",
       "        [ -8,   7, -28],\n",
       "        [ -7,   8, -29],\n",
       "        [ -6,   8, -29]],\n",
       "\n",
       "       ...,\n",
       "\n",
       "       [[ 18,  14, -36],\n",
       "        [ 18,  14, -36],\n",
       "        [ 20,  16, -37],\n",
       "        ...,\n",
       "        [  0,  14, -34],\n",
       "        [  2,  16, -35],\n",
       "        [  1,  16, -35]],\n",
       "\n",
       "       [[ 18,  14, -38],\n",
       "        [ 17,  14, -38],\n",
       "        [ 19,  17, -38],\n",
       "        ...,\n",
       "        [ -1,  12, -33],\n",
       "        [  1,  16, -34],\n",
       "        [  1,  16, -34]],\n",
       "\n",
       "       [[ 19,  14, -38],\n",
       "        [ 19,  14, -38],\n",
       "        [ 20,  17, -38],\n",
       "        ...,\n",
       "        [ -1,  12, -33],\n",
       "        [  1,  16, -34],\n",
       "        [  1,  16, -34]]])"
      ]
     },
     "execution_count": 13,
     "metadata": {},
     "output_type": "execute_result"
    }
   ],
   "source": [
    "ycc_img"
   ]
  },
  {
   "cell_type": "code",
   "execution_count": 14,
   "id": "9da8626a",
   "metadata": {},
   "outputs": [],
   "source": [
    "# Create 8x8 blocks\n",
    "blocks, indices = image_block.forward(ycc_img)"
   ]
  },
  {
   "cell_type": "code",
   "execution_count": 15,
   "id": "248ebabf",
   "metadata": {},
   "outputs": [
    {
     "data": {
      "text/plain": [
       "64"
      ]
     },
     "execution_count": 15,
     "metadata": {},
     "output_type": "execute_result"
    }
   ],
   "source": [
    "blocks[0].size"
   ]
  },
  {
   "cell_type": "code",
   "execution_count": 16,
   "id": "6004fde5",
   "metadata": {},
   "outputs": [
    {
     "data": {
      "text/plain": [
       "3"
      ]
     },
     "execution_count": 16,
     "metadata": {},
     "output_type": "execute_result"
    }
   ],
   "source": [
    "indices[0].size"
   ]
  },
  {
   "cell_type": "code",
   "execution_count": 17,
   "id": "9bcef923",
   "metadata": {},
   "outputs": [],
   "source": [
    "def process_block(block, index):\n",
    "    \n",
    "    #Prediction  -> Prediction error\n",
    "    \n",
    "    # DCT\n",
    "    encoded = dct2d.forward(block)\n",
    "    if index[2] == 0:\n",
    "        channel_type = 'lum'\n",
    "    else:\n",
    "        channel_type = 'chr'\n",
    "        \n",
    "    # Quantization\n",
    "    encoded = quantization.forward(encoded, channel_type)\n",
    "    \n",
    "    # RLE + zigzag scanning\n",
    "    encoded = zigzagScanning.forward(encoded)\n",
    "    encoded = rle.forward(encoded)\n",
    "    # Entropy coding (Arithmetic)\n",
    "    encoded, prob = entropy.forward(encoded)\n",
    "    \n",
    "\n",
    "    # Reverse Entropy coding (Arithmetic)\n",
    "    decoded = entropy.backward(encoded, prob)\n",
    "    decoded = rle.backward(decoded)\n",
    "    # Reverse RLE + zigzag scanning\n",
    "    decoded = zigzagScanning.backward(decoded)\n",
    "    # Dequantization\n",
    "    decoded = quantization.backward(decoded, channel_type)\n",
    "    \n",
    "    # Reverse DCT\n",
    "    compressed = dct2d.backward(decoded)\n",
    "    return compressed\n",
    "\n",
    "    #Reverse Prediction "
   ]
  },
  {
   "cell_type": "code",
   "execution_count": 28,
   "id": "4471b62f",
   "metadata": {},
   "outputs": [],
   "source": [
    "encoded = dct2d.forward(blocks[0])\n",
    "if indices[0][2] == 0:\n",
    "    channel_type = 'lum'\n",
    "else:\n",
    "    channel_type = 'chr'\n",
    "       "
   ]
  },
  {
   "cell_type": "code",
   "execution_count": 29,
   "id": "88f1d2c1",
   "metadata": {},
   "outputs": [
    {
     "data": {
      "text/plain": [
       "array([[-1.33500000e+02,  1.60049754e+01,  6.13653315e-01,\n",
       "         4.65166106e-01,  7.50000000e-01,  5.34105645e-01,\n",
       "         8.28208674e-01,  1.21000555e+00],\n",
       "       [-1.24328744e+00, -8.84992173e-01, -1.09044081e+00,\n",
       "         3.17649513e-01,  5.80414582e-02, -7.66873761e-01,\n",
       "        -4.73542147e-01, -8.22145334e-02],\n",
       "       [-1.74927192e-01, -3.44874224e-02, -2.73743687e+00,\n",
       "         1.25839317e-01,  6.92909649e-01, -8.98035554e-01,\n",
       "         3.03300859e-02, -1.73379981e-01],\n",
       "       [ 4.88439083e-01, -1.71202903e-01, -5.94797776e-01,\n",
       "         1.05991936e+00,  2.41688117e-01, -1.21842700e-01,\n",
       "        -6.09317051e-01, -4.13320371e-01],\n",
       "       [ 1.25000000e+00,  1.40941690e+00,  1.86417359e+00,\n",
       "         1.13329629e+00,  5.00000000e-01,  3.06235705e-01,\n",
       "         5.80824267e-01, -1.01996233e-01],\n",
       "       [-1.96515645e+00, -8.66796294e-02, -4.78792545e-01,\n",
       "        -4.75396091e-01,  9.49649629e-01,  7.40807116e-04,\n",
       "         3.44861335e-01,  3.59038781e-02],\n",
       "       [ 8.84251366e-01,  3.85059026e-02,  1.03033009e+00,\n",
       "        -9.82118698e-02, -2.87012574e-01, -1.46984450e-01,\n",
       "        -2.62563133e-01, -3.37214924e-01],\n",
       "       [-1.10852322e+00, -4.35767924e-01, -9.07866865e-02,\n",
       "        -4.40233020e-01, -4.01725808e-01, -1.82350487e-01,\n",
       "         7.23266163e-02, -1.75667999e-01]])"
      ]
     },
     "execution_count": 29,
     "metadata": {},
     "output_type": "execute_result"
    }
   ],
   "source": [
    "encoded"
   ]
  },
  {
   "cell_type": "code",
   "execution_count": 20,
   "id": "6f46f26b",
   "metadata": {},
   "outputs": [],
   "source": [
    "encoded = quantization.forward(encoded, channel_type)"
   ]
  },
  {
   "cell_type": "code",
   "execution_count": 21,
   "id": "5754c775",
   "metadata": {},
   "outputs": [
    {
     "data": {
      "text/plain": [
       "array([[-8.,  1.,  0.,  0.,  0.,  0.,  0.,  0.],\n",
       "       [-0., -0., -0.,  0.,  0., -0., -0., -0.],\n",
       "       [-0., -0., -0.,  0.,  0., -0.,  0., -0.],\n",
       "       [ 0., -0., -0.,  0.,  0., -0., -0., -0.],\n",
       "       [ 0.,  0.,  0.,  0.,  0.,  0.,  0., -0.],\n",
       "       [-0., -0., -0., -0.,  0.,  0.,  0.,  0.],\n",
       "       [ 0.,  0.,  0., -0., -0., -0., -0., -0.],\n",
       "       [-0., -0., -0., -0., -0., -0.,  0., -0.]])"
      ]
     },
     "execution_count": 21,
     "metadata": {},
     "output_type": "execute_result"
    }
   ],
   "source": [
    "encoded"
   ]
  },
  {
   "cell_type": "code",
   "execution_count": 30,
   "id": "403c449c",
   "metadata": {},
   "outputs": [],
   "source": [
    "encoded = zigzagScanning.forward(encoded)"
   ]
  },
  {
   "cell_type": "code",
   "execution_count": 31,
   "id": "3bbb9116",
   "metadata": {},
   "outputs": [
    {
     "data": {
      "text/plain": [
       "[-133.5,\n",
       " -1.2432874386017492,\n",
       " 16.004975420568567,\n",
       " 0.6136533154929046,\n",
       " -0.8849921726820025,\n",
       " -0.1749271919818262,\n",
       " 0.48843908259605157,\n",
       " -0.034487422410367924,\n",
       " -1.0904408136804788,\n",
       " 0.46516610550864934,\n",
       " 0.7499999999999959,\n",
       " 0.31764951251827456,\n",
       " -2.737436867076458,\n",
       " -0.17120290311154837,\n",
       " 1.2500000000000002,\n",
       " -1.9651564492312352,\n",
       " 1.4094168954633308,\n",
       " -0.5947977760461479,\n",
       " 0.12583931737228704,\n",
       " 0.05804145815841308,\n",
       " 0.5341056447995487,\n",
       " 0.8282086744200122,\n",
       " -0.7668737612028209,\n",
       " 0.692909649383465,\n",
       " 1.0599193646638287,\n",
       " 1.8641735892232922,\n",
       " -0.08667962939045305,\n",
       " 0.88425136556601,\n",
       " -1.1085232237768918,\n",
       " 0.03850590263203307,\n",
       " -0.47879254474896893,\n",
       " 1.1332962879614712,\n",
       " 0.2416881166956805,\n",
       " -0.8980355543053687,\n",
       " -0.47354214731625305,\n",
       " 1.2100055543158348,\n",
       " -0.08221453340418261,\n",
       " 0.03033008588991093,\n",
       " -0.12184270034945943,\n",
       " 0.5,\n",
       " -0.47539609094273316,\n",
       " 1.0303300858899105,\n",
       " -0.4357679239974565,\n",
       " -0.09078668654119228,\n",
       " -0.09821186979838774,\n",
       " 0.9496496294242038,\n",
       " 0.3062357048478094,\n",
       " -0.6093170511332447,\n",
       " -0.1733799806652683,\n",
       " -0.41332037060954696,\n",
       " 0.5808242670914738,\n",
       " 0.0007408071159926977,\n",
       " -0.28701257427381743,\n",
       " -0.44023301998372677,\n",
       " -0.4017258078807139,\n",
       " -0.14698445030241986,\n",
       " 0.34486133532916263,\n",
       " -0.10199623302662031,\n",
       " 0.03590387807499916,\n",
       " -0.2625631329235418,\n",
       " -0.18235048748172544,\n",
       " 0.07232661625207716,\n",
       " -0.33721492385305046,\n",
       " -0.17566799909781866]"
      ]
     },
     "execution_count": 31,
     "metadata": {},
     "output_type": "execute_result"
    }
   ],
   "source": [
    "encoded"
   ]
  },
  {
   "cell_type": "code",
   "execution_count": 32,
   "id": "d3cd7a30",
   "metadata": {},
   "outputs": [],
   "source": [
    "encoded = rle.forward(encoded)"
   ]
  },
  {
   "cell_type": "code",
   "execution_count": 33,
   "id": "b1bc01c5",
   "metadata": {},
   "outputs": [
    {
     "data": {
      "text/plain": [
       "[(-133.5, 1),\n",
       " (-1.2432874386017492, 1),\n",
       " (16.004975420568567, 1),\n",
       " (0.6136533154929046, 1),\n",
       " (-0.8849921726820025, 1),\n",
       " (-0.1749271919818262, 1),\n",
       " (0.48843908259605157, 1),\n",
       " (-0.034487422410367924, 1),\n",
       " (-1.0904408136804788, 1),\n",
       " (0.46516610550864934, 1),\n",
       " (0.7499999999999959, 1),\n",
       " (0.31764951251827456, 1),\n",
       " (-2.737436867076458, 1),\n",
       " (-0.17120290311154837, 1),\n",
       " (1.2500000000000002, 1),\n",
       " (-1.9651564492312352, 1),\n",
       " (1.4094168954633308, 1),\n",
       " (-0.5947977760461479, 1),\n",
       " (0.12583931737228704, 1),\n",
       " (0.05804145815841308, 1),\n",
       " (0.5341056447995487, 1),\n",
       " (0.8282086744200122, 1),\n",
       " (-0.7668737612028209, 1),\n",
       " (0.692909649383465, 1),\n",
       " (1.0599193646638287, 1),\n",
       " (1.8641735892232922, 1),\n",
       " (-0.08667962939045305, 1),\n",
       " (0.88425136556601, 1),\n",
       " (-1.1085232237768918, 1),\n",
       " (0.03850590263203307, 1),\n",
       " (-0.47879254474896893, 1),\n",
       " (1.1332962879614712, 1),\n",
       " (0.2416881166956805, 1),\n",
       " (-0.8980355543053687, 1),\n",
       " (-0.47354214731625305, 1),\n",
       " (1.2100055543158348, 1),\n",
       " (-0.08221453340418261, 1),\n",
       " (0.03033008588991093, 1),\n",
       " (-0.12184270034945943, 1),\n",
       " (0.5, 1),\n",
       " (-0.47539609094273316, 1),\n",
       " (1.0303300858899105, 1),\n",
       " (-0.4357679239974565, 1),\n",
       " (-0.09078668654119228, 1),\n",
       " (-0.09821186979838774, 1),\n",
       " (0.9496496294242038, 1),\n",
       " (0.3062357048478094, 1),\n",
       " (-0.6093170511332447, 1),\n",
       " (-0.1733799806652683, 1),\n",
       " (-0.41332037060954696, 1),\n",
       " (0.5808242670914738, 1),\n",
       " (0.0007408071159926977, 1),\n",
       " (-0.28701257427381743, 1),\n",
       " (-0.44023301998372677, 1),\n",
       " (-0.4017258078807139, 1),\n",
       " (-0.14698445030241986, 1),\n",
       " (0.34486133532916263, 1),\n",
       " (-0.10199623302662031, 1),\n",
       " (0.03590387807499916, 1),\n",
       " (-0.2625631329235418, 1),\n",
       " (-0.18235048748172544, 1),\n",
       " (0.07232661625207716, 1),\n",
       " (-0.33721492385305046, 1),\n",
       " (-0.17566799909781866, 1)]"
      ]
     },
     "execution_count": 33,
     "metadata": {},
     "output_type": "execute_result"
    }
   ],
   "source": [
    "encoded"
   ]
  },
  {
   "cell_type": "code",
   "execution_count": 26,
   "id": "99f1a1f2",
   "metadata": {},
   "outputs": [],
   "source": [
    "encoded, prob = entropy.forward(encoded)"
   ]
  },
  {
   "cell_type": "code",
   "execution_count": 27,
   "id": "bb7cb342",
   "metadata": {},
   "outputs": [
    {
     "ename": "KeyError",
     "evalue": "None",
     "output_type": "error",
     "traceback": [
      "\u001b[1;31m---------------------------------------------------------------------------\u001b[0m",
      "\u001b[1;31mKeyError\u001b[0m                                  Traceback (most recent call last)",
      "Cell \u001b[1;32mIn[27], line 1\u001b[0m\n\u001b[1;32m----> 1\u001b[0m decoded \u001b[39m=\u001b[39m entropy\u001b[39m.\u001b[39;49mbackward(encoded, prob)\n",
      "File \u001b[1;32mc:\\Users\\Zithanos\\image_compression\\utils.py:240\u001b[0m, in \u001b[0;36mEntropy.backward\u001b[1;34m(self, encoded_value, freq)\u001b[0m\n\u001b[0;32m    238\u001b[0m \u001b[39m# update the range and the current value for the next symbol\u001b[39;00m\n\u001b[0;32m    239\u001b[0m high \u001b[39m=\u001b[39m low \u001b[39m+\u001b[39m range_size \u001b[39m*\u001b[39m (cum_prob)\n\u001b[1;32m--> 240\u001b[0m low \u001b[39m=\u001b[39m low \u001b[39m+\u001b[39m range_size \u001b[39m*\u001b[39m (cum_prob \u001b[39m-\u001b[39m freq[symbol] \u001b[39m/\u001b[39m total)\n\u001b[0;32m    241\u001b[0m value \u001b[39m=\u001b[39m (value \u001b[39m-\u001b[39m low) \u001b[39m/\u001b[39m range_size \u001b[39m*\u001b[39m total\n\u001b[0;32m    243\u001b[0m \u001b[39m# add the decoded symbol to the sequence\u001b[39;00m\n",
      "\u001b[1;31mKeyError\u001b[0m: None"
     ]
    }
   ],
   "source": [
    "decoded = entropy.backward(encoded, prob)"
   ]
  },
  {
   "cell_type": "code",
   "execution_count": 34,
   "id": "0f4baac9",
   "metadata": {},
   "outputs": [],
   "source": [
    "decoded = rle.backward(encoded)"
   ]
  },
  {
   "cell_type": "code",
   "execution_count": 35,
   "id": "e78f80dc",
   "metadata": {},
   "outputs": [
    {
     "data": {
      "text/plain": [
       "[-133.5,\n",
       " -1.2432874386017492,\n",
       " 16.004975420568567,\n",
       " 0.6136533154929046,\n",
       " -0.8849921726820025,\n",
       " -0.1749271919818262,\n",
       " 0.48843908259605157,\n",
       " -0.034487422410367924,\n",
       " -1.0904408136804788,\n",
       " 0.46516610550864934,\n",
       " 0.7499999999999959,\n",
       " 0.31764951251827456,\n",
       " -2.737436867076458,\n",
       " -0.17120290311154837,\n",
       " 1.2500000000000002,\n",
       " -1.9651564492312352,\n",
       " 1.4094168954633308,\n",
       " -0.5947977760461479,\n",
       " 0.12583931737228704,\n",
       " 0.05804145815841308,\n",
       " 0.5341056447995487,\n",
       " 0.8282086744200122,\n",
       " -0.7668737612028209,\n",
       " 0.692909649383465,\n",
       " 1.0599193646638287,\n",
       " 1.8641735892232922,\n",
       " -0.08667962939045305,\n",
       " 0.88425136556601,\n",
       " -1.1085232237768918,\n",
       " 0.03850590263203307,\n",
       " -0.47879254474896893,\n",
       " 1.1332962879614712,\n",
       " 0.2416881166956805,\n",
       " -0.8980355543053687,\n",
       " -0.47354214731625305,\n",
       " 1.2100055543158348,\n",
       " -0.08221453340418261,\n",
       " 0.03033008588991093,\n",
       " -0.12184270034945943,\n",
       " 0.5,\n",
       " -0.47539609094273316,\n",
       " 1.0303300858899105,\n",
       " -0.4357679239974565,\n",
       " -0.09078668654119228,\n",
       " -0.09821186979838774,\n",
       " 0.9496496294242038,\n",
       " 0.3062357048478094,\n",
       " -0.6093170511332447,\n",
       " -0.1733799806652683,\n",
       " -0.41332037060954696,\n",
       " 0.5808242670914738,\n",
       " 0.0007408071159926977,\n",
       " -0.28701257427381743,\n",
       " -0.44023301998372677,\n",
       " -0.4017258078807139,\n",
       " -0.14698445030241986,\n",
       " 0.34486133532916263,\n",
       " -0.10199623302662031,\n",
       " 0.03590387807499916,\n",
       " -0.2625631329235418,\n",
       " -0.18235048748172544,\n",
       " 0.07232661625207716,\n",
       " -0.33721492385305046,\n",
       " -0.17566799909781866]"
      ]
     },
     "execution_count": 35,
     "metadata": {},
     "output_type": "execute_result"
    }
   ],
   "source": [
    "decoded"
   ]
  },
  {
   "cell_type": "code",
   "execution_count": 36,
   "id": "a1040a4d",
   "metadata": {},
   "outputs": [
    {
     "ename": "IndexError",
     "evalue": "list assignment index out of range",
     "output_type": "error",
     "traceback": [
      "\u001b[1;31m---------------------------------------------------------------------------\u001b[0m",
      "\u001b[1;31mIndexError\u001b[0m                                Traceback (most recent call last)",
      "Cell \u001b[1;32mIn[36], line 1\u001b[0m\n\u001b[1;32m----> 1\u001b[0m decoded \u001b[39m=\u001b[39m zigzagScanning\u001b[39m.\u001b[39;49mbackward(decoded)\n",
      "File \u001b[1;32mc:\\Users\\Zithanos\\image_compression\\utils.py:149\u001b[0m, in \u001b[0;36mZigzagScanning.backward\u001b[1;34m(self, seq)\u001b[0m\n\u001b[0;32m    147\u001b[0m \u001b[39mfor\u001b[39;00m j \u001b[39min\u001b[39;00m \u001b[39mrange\u001b[39m(\u001b[39mmax\u001b[39m(\u001b[39m0\u001b[39m, i \u001b[39m-\u001b[39m \u001b[39m7\u001b[39m), \u001b[39mmin\u001b[39m(i \u001b[39m+\u001b[39m \u001b[39m1\u001b[39m, \u001b[39m8\u001b[39m)):\n\u001b[0;32m    148\u001b[0m     \u001b[39mif\u001b[39;00m i \u001b[39m%\u001b[39m \u001b[39m2\u001b[39m \u001b[39m==\u001b[39m \u001b[39m0\u001b[39m:\n\u001b[1;32m--> 149\u001b[0m         block[row][col] \u001b[39m=\u001b[39m seq[index]\n\u001b[0;32m    150\u001b[0m     \u001b[39melse\u001b[39;00m:\n\u001b[0;32m    151\u001b[0m         block[col][row] \u001b[39m=\u001b[39m seq[index]\n",
      "\u001b[1;31mIndexError\u001b[0m: list assignment index out of range"
     ]
    }
   ],
   "source": [
    "decoded = zigzagScanning.backward(decoded)"
   ]
  },
  {
   "cell_type": "code",
   "execution_count": null,
   "id": "b5e7fb00",
   "metadata": {},
   "outputs": [],
   "source": [
    "decoded"
   ]
  },
  {
   "cell_type": "code",
   "execution_count": null,
   "id": "41211f5b",
   "metadata": {},
   "outputs": [
    {
     "ename": "ValueError",
     "evalue": "operands could not be broadcast together with shapes (4,2) (8,8) ",
     "output_type": "error",
     "traceback": [
      "\u001b[1;31m---------------------------------------------------------------------------\u001b[0m",
      "\u001b[1;31mValueError\u001b[0m                                Traceback (most recent call last)",
      "Cell \u001b[1;32mIn[32], line 1\u001b[0m\n\u001b[1;32m----> 1\u001b[0m decoded \u001b[39m=\u001b[39m quantization\u001b[39m.\u001b[39;49mbackward(encoded, channel_type)\n",
      "File \u001b[1;32mc:\\Users\\Zithanos\\image_compression\\utils.py:298\u001b[0m, in \u001b[0;36mQuantization.backward\u001b[1;34m(self, x, channel_type)\u001b[0m\n\u001b[0;32m    295\u001b[0m \u001b[39melse\u001b[39;00m:\n\u001b[0;32m    296\u001b[0m     Q \u001b[39m=\u001b[39m \u001b[39mself\u001b[39m\u001b[39m.\u001b[39mQ_chr\n\u001b[1;32m--> 298\u001b[0m out \u001b[39m=\u001b[39m x\u001b[39m*\u001b[39;49mQ\n\u001b[0;32m    299\u001b[0m \u001b[39mreturn\u001b[39;00m out\n",
      "\u001b[1;31mValueError\u001b[0m: operands could not be broadcast together with shapes (4,2) (8,8) "
     ]
    }
   ],
   "source": [
    "decoded = quantization.backward(encoded, channel_type)"
   ]
  },
  {
   "cell_type": "code",
   "execution_count": null,
   "id": "59c373b0",
   "metadata": {},
   "outputs": [
    {
     "ename": "IndexError",
     "evalue": "tuple index out of range",
     "output_type": "error",
     "traceback": [
      "\u001b[1;31m---------------------------------------------------------------------------\u001b[0m",
      "\u001b[1;31mIndexError\u001b[0m                                Traceback (most recent call last)",
      "Cell \u001b[1;32mIn[33], line 1\u001b[0m\n\u001b[1;32m----> 1\u001b[0m compressed \u001b[39m=\u001b[39m dct2d\u001b[39m.\u001b[39;49mbackward(decoded)\n",
      "File \u001b[1;32mc:\\Users\\Zithanos\\image_compression\\utils.py:105\u001b[0m, in \u001b[0;36mDCT2D.backward\u001b[1;34m(self, x)\u001b[0m\n\u001b[0;32m    104\u001b[0m \u001b[39mdef\u001b[39;00m \u001b[39mbackward\u001b[39m(\u001b[39mself\u001b[39m,x):\n\u001b[1;32m--> 105\u001b[0m     out \u001b[39m=\u001b[39m dct(dct(x, \u001b[39mtype\u001b[39;49m\u001b[39m=\u001b[39;49m\u001b[39m3\u001b[39;49m, norm\u001b[39m=\u001b[39;49m\u001b[39mself\u001b[39;49m\u001b[39m.\u001b[39;49mnorm, axis\u001b[39m=\u001b[39;49m\u001b[39m0\u001b[39;49m), \u001b[39mtype\u001b[39m\u001b[39m=\u001b[39m\u001b[39m3\u001b[39m, norm\u001b[39m=\u001b[39m\u001b[39mself\u001b[39m\u001b[39m.\u001b[39mnorm, axis\u001b[39m=\u001b[39m\u001b[39m1\u001b[39m)\n\u001b[0;32m    106\u001b[0m     \u001b[39mreturn\u001b[39;00m np\u001b[39m.\u001b[39mround(out)\n",
      "File \u001b[1;32m~\\AppData\\Roaming\\Python\\Python311\\site-packages\\scipy\\fft\\_backend.py:25\u001b[0m, in \u001b[0;36m_ScipyBackend.__ua_function__\u001b[1;34m(method, args, kwargs)\u001b[0m\n\u001b[0;32m     23\u001b[0m \u001b[39mif\u001b[39;00m fn \u001b[39mis\u001b[39;00m \u001b[39mNone\u001b[39;00m:\n\u001b[0;32m     24\u001b[0m     \u001b[39mreturn\u001b[39;00m \u001b[39mNotImplemented\u001b[39m\n\u001b[1;32m---> 25\u001b[0m \u001b[39mreturn\u001b[39;00m fn(\u001b[39m*\u001b[39;49margs, \u001b[39m*\u001b[39;49m\u001b[39m*\u001b[39;49mkwargs)\n",
      "File \u001b[1;32m~\\AppData\\Roaming\\Python\\Python311\\site-packages\\scipy\\fft\\_pocketfft\\realtransforms.py:33\u001b[0m, in \u001b[0;36m_r2r\u001b[1;34m(forward, transform, x, type, n, axis, norm, overwrite_x, workers, orthogonalize)\u001b[0m\n\u001b[0;32m     31\u001b[0m     tmp, copied \u001b[39m=\u001b[39m _fix_shape_1d(tmp, n, axis)\n\u001b[0;32m     32\u001b[0m     overwrite_x \u001b[39m=\u001b[39m overwrite_x \u001b[39mor\u001b[39;00m copied\n\u001b[1;32m---> 33\u001b[0m \u001b[39melif\u001b[39;00m tmp\u001b[39m.\u001b[39;49mshape[axis] \u001b[39m<\u001b[39m \u001b[39m1\u001b[39m:\n\u001b[0;32m     34\u001b[0m     \u001b[39mraise\u001b[39;00m \u001b[39mValueError\u001b[39;00m(\u001b[39m\"\u001b[39m\u001b[39minvalid number of data points (\u001b[39m\u001b[39m{0}\u001b[39;00m\u001b[39m) specified\u001b[39m\u001b[39m\"\u001b[39m\n\u001b[0;32m     35\u001b[0m                      \u001b[39m.\u001b[39mformat(tmp\u001b[39m.\u001b[39mshape[axis]))\n\u001b[0;32m     37\u001b[0m out \u001b[39m=\u001b[39m (tmp \u001b[39mif\u001b[39;00m overwrite_x \u001b[39melse\u001b[39;00m \u001b[39mNone\u001b[39;00m)\n",
      "\u001b[1;31mIndexError\u001b[0m: tuple index out of range"
     ]
    }
   ],
   "source": [
    "compressed = dct2d.backward(decoded)"
   ]
  },
  {
   "cell_type": "code",
   "execution_count": null,
   "id": "11ea2b89",
   "metadata": {},
   "outputs": [
    {
     "data": {
      "text/plain": [
       "array([[-14., -14., -15., -16., -16., -17., -18., -18.],\n",
       "       [-14., -14., -15., -16., -16., -17., -18., -18.],\n",
       "       [-14., -14., -15., -16., -16., -17., -18., -18.],\n",
       "       [-14., -14., -15., -16., -16., -17., -18., -18.],\n",
       "       [-14., -14., -15., -16., -16., -17., -18., -18.],\n",
       "       [-14., -14., -15., -16., -16., -17., -18., -18.],\n",
       "       [-14., -14., -15., -16., -16., -17., -18., -18.],\n",
       "       [-14., -14., -15., -16., -16., -17., -18., -18.]])"
      ]
     },
     "execution_count": 42,
     "metadata": {},
     "output_type": "execute_result"
    }
   ],
   "source": [
    "compressed"
   ]
  }
 ],
 "metadata": {
  "kernelspec": {
   "display_name": "Python 3 (ipykernel)",
   "language": "python",
   "name": "python3"
  },
  "language_info": {
   "codemirror_mode": {
    "name": "ipython",
    "version": 3
   },
   "file_extension": ".py",
   "mimetype": "text/x-python",
   "name": "python",
   "nbconvert_exporter": "python",
   "pygments_lexer": "ipython3",
   "version": "3.11.2"
  },
  "vscode": {
   "interpreter": {
    "hash": "5238573367df39f7286bb46f9ff5f08f63a01a80960060ce41e3c79b190280fa"
   }
  }
 },
 "nbformat": 4,
 "nbformat_minor": 5
}
